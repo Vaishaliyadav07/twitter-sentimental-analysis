{
 "cells": [
  {
   "cell_type": "code",
   "execution_count": 25,
   "id": "f9259443",
   "metadata": {},
   "outputs": [],
   "source": [
    "import numpy as np\n",
    "import pandas as pd\n",
    "import seaborn as sns\n",
    "import matplotlib.pyplot as plt\n",
    "%matplotlib inline \n",
    "import nltk"
   ]
  },
  {
   "cell_type": "code",
   "execution_count": 26,
   "id": "803f7c1b",
   "metadata": {},
   "outputs": [],
   "source": [
    "from scipy.stats import pearsonr\n",
    "import sklearn.ensemble  \n",
    "from nltk.corpus import stopwords\n",
    "from textblob import TextBlob\n",
    "from nltk.stem import PorterStemmer\n",
    "from textblob import Word\n",
    "import nltk\n"
   ]
  },
  {
   "cell_type": "code",
   "execution_count": 27,
   "id": "2fe564b2",
   "metadata": {},
   "outputs": [],
   "source": [
    "df = pd.read_csv('train.csv')\n",
    "df1 = pd.read_csv('test.csv')# use / not this \\\n",
    "\n",
    "# df = pd.merge(\n",
    "#             df,\n",
    "#             df1,\n",
    "#             how='outer',\n",
    "#             on='tweet_id',\n",
    "#             indicator=True\n",
    "# )"
   ]
  },
  {
   "cell_type": "code",
   "execution_count": 28,
   "id": "cd75e8a7",
   "metadata": {},
   "outputs": [
    {
     "data": {
      "text/html": [
       "<div>\n",
       "<style scoped>\n",
       "    .dataframe tbody tr th:only-of-type {\n",
       "        vertical-align: middle;\n",
       "    }\n",
       "\n",
       "    .dataframe tbody tr th {\n",
       "        vertical-align: top;\n",
       "    }\n",
       "\n",
       "    .dataframe thead th {\n",
       "        text-align: right;\n",
       "    }\n",
       "</style>\n",
       "<table border=\"1\" class=\"dataframe\">\n",
       "  <thead>\n",
       "    <tr style=\"text-align: right;\">\n",
       "      <th></th>\n",
       "      <th>tweet_id</th>\n",
       "      <th>tweet</th>\n",
       "      <th>sentiment</th>\n",
       "    </tr>\n",
       "  </thead>\n",
       "  <tbody>\n",
       "    <tr>\n",
       "      <th>0</th>\n",
       "      <td>1701</td>\n",
       "      <td>#sxswnui #sxsw #apple defining language of tou...</td>\n",
       "      <td>1</td>\n",
       "    </tr>\n",
       "    <tr>\n",
       "      <th>1</th>\n",
       "      <td>1851</td>\n",
       "      <td>Learning ab Google doodles! All doodles should...</td>\n",
       "      <td>1</td>\n",
       "    </tr>\n",
       "    <tr>\n",
       "      <th>2</th>\n",
       "      <td>2689</td>\n",
       "      <td>one of the most in-your-face ex. of stealing t...</td>\n",
       "      <td>2</td>\n",
       "    </tr>\n",
       "    <tr>\n",
       "      <th>3</th>\n",
       "      <td>4525</td>\n",
       "      <td>This iPhone #SXSW app would b pretty awesome i...</td>\n",
       "      <td>0</td>\n",
       "    </tr>\n",
       "    <tr>\n",
       "      <th>4</th>\n",
       "      <td>3604</td>\n",
       "      <td>Line outside the Apple store in Austin waiting...</td>\n",
       "      <td>1</td>\n",
       "    </tr>\n",
       "    <tr>\n",
       "      <th>5</th>\n",
       "      <td>966</td>\n",
       "      <td>#technews One lone dude awaits iPad 2 at Apple...</td>\n",
       "      <td>1</td>\n",
       "    </tr>\n",
       "    <tr>\n",
       "      <th>6</th>\n",
       "      <td>1395</td>\n",
       "      <td>SXSW Tips, Prince, NPR Videos, Toy Shopping Wi...</td>\n",
       "      <td>1</td>\n",
       "    </tr>\n",
       "    <tr>\n",
       "      <th>7</th>\n",
       "      <td>8182</td>\n",
       "      <td>NU user RT @mention New #UberSocial for #iPhon...</td>\n",
       "      <td>1</td>\n",
       "    </tr>\n",
       "    <tr>\n",
       "      <th>8</th>\n",
       "      <td>8835</td>\n",
       "      <td>Free #SXSW sampler on iTunes {link} #FreeMusic</td>\n",
       "      <td>2</td>\n",
       "    </tr>\n",
       "    <tr>\n",
       "      <th>9</th>\n",
       "      <td>883</td>\n",
       "      <td>I think I might go all weekend without seeing ...</td>\n",
       "      <td>2</td>\n",
       "    </tr>\n",
       "  </tbody>\n",
       "</table>\n",
       "</div>"
      ],
      "text/plain": [
       "   tweet_id                                              tweet  sentiment\n",
       "0      1701  #sxswnui #sxsw #apple defining language of tou...          1\n",
       "1      1851  Learning ab Google doodles! All doodles should...          1\n",
       "2      2689  one of the most in-your-face ex. of stealing t...          2\n",
       "3      4525  This iPhone #SXSW app would b pretty awesome i...          0\n",
       "4      3604  Line outside the Apple store in Austin waiting...          1\n",
       "5       966  #technews One lone dude awaits iPad 2 at Apple...          1\n",
       "6      1395  SXSW Tips, Prince, NPR Videos, Toy Shopping Wi...          1\n",
       "7      8182  NU user RT @mention New #UberSocial for #iPhon...          1\n",
       "8      8835     Free #SXSW sampler on iTunes {link} #FreeMusic          2\n",
       "9       883  I think I might go all weekend without seeing ...          2"
      ]
     },
     "execution_count": 28,
     "metadata": {},
     "output_type": "execute_result"
    }
   ],
   "source": [
    "df.head(10)"
   ]
  },
  {
   "cell_type": "code",
   "execution_count": 29,
   "id": "6d07019a",
   "metadata": {},
   "outputs": [
    {
     "data": {
      "text/html": [
       "<div>\n",
       "<style scoped>\n",
       "    .dataframe tbody tr th:only-of-type {\n",
       "        vertical-align: middle;\n",
       "    }\n",
       "\n",
       "    .dataframe tbody tr th {\n",
       "        vertical-align: top;\n",
       "    }\n",
       "\n",
       "    .dataframe thead th {\n",
       "        text-align: right;\n",
       "    }\n",
       "</style>\n",
       "<table border=\"1\" class=\"dataframe\">\n",
       "  <thead>\n",
       "    <tr style=\"text-align: right;\">\n",
       "      <th></th>\n",
       "      <th>tweet_id</th>\n",
       "      <th>tweet</th>\n",
       "    </tr>\n",
       "  </thead>\n",
       "  <tbody>\n",
       "    <tr>\n",
       "      <th>0</th>\n",
       "      <td>7506</td>\n",
       "      <td>Audience Q: What prototyping tools do you use?...</td>\n",
       "    </tr>\n",
       "    <tr>\n",
       "      <th>1</th>\n",
       "      <td>7992</td>\n",
       "      <td>At SXSW? Send Your Best Photos &amp;amp; Videos to...</td>\n",
       "    </tr>\n",
       "    <tr>\n",
       "      <th>2</th>\n",
       "      <td>247</td>\n",
       "      <td>@mention  and here's a pic of you winning your...</td>\n",
       "    </tr>\n",
       "    <tr>\n",
       "      <th>3</th>\n",
       "      <td>7688</td>\n",
       "      <td>Google Marissa Mayer: mobile phone as a cursor...</td>\n",
       "    </tr>\n",
       "    <tr>\n",
       "      <th>4</th>\n",
       "      <td>3294</td>\n",
       "      <td>#SXSW Google maps is even cooler than I thought</td>\n",
       "    </tr>\n",
       "  </tbody>\n",
       "</table>\n",
       "</div>"
      ],
      "text/plain": [
       "   tweet_id                                              tweet\n",
       "0      7506  Audience Q: What prototyping tools do you use?...\n",
       "1      7992  At SXSW? Send Your Best Photos &amp; Videos to...\n",
       "2       247  @mention  and here's a pic of you winning your...\n",
       "3      7688  Google Marissa Mayer: mobile phone as a cursor...\n",
       "4      3294    #SXSW Google maps is even cooler than I thought"
      ]
     },
     "execution_count": 29,
     "metadata": {},
     "output_type": "execute_result"
    }
   ],
   "source": [
    "df1.head()"
   ]
  },
  {
   "cell_type": "code",
   "execution_count": 30,
   "id": "d8a54e12",
   "metadata": {},
   "outputs": [
    {
     "name": "stdout",
     "output_type": "stream",
     "text": [
      "<class 'pandas.core.frame.DataFrame'>\n",
      "RangeIndex: 1819 entries, 0 to 1818\n",
      "Data columns (total 2 columns):\n",
      " #   Column    Non-Null Count  Dtype \n",
      "---  ------    --------------  ----- \n",
      " 0   tweet_id  1819 non-null   int64 \n",
      " 1   tweet     1819 non-null   object\n",
      "dtypes: int64(1), object(1)\n",
      "memory usage: 28.5+ KB\n"
     ]
    }
   ],
   "source": [
    "df1.info()"
   ]
  },
  {
   "cell_type": "code",
   "execution_count": 31,
   "id": "645cbbff",
   "metadata": {},
   "outputs": [],
   "source": [
    "#ANALYZIG THE DATA"
   ]
  },
  {
   "cell_type": "code",
   "execution_count": 32,
   "id": "0a324e14",
   "metadata": {},
   "outputs": [
    {
     "name": "stdout",
     "output_type": "stream",
     "text": [
      "<class 'pandas.core.frame.DataFrame'>\n",
      "RangeIndex: 7274 entries, 0 to 7273\n",
      "Data columns (total 3 columns):\n",
      " #   Column     Non-Null Count  Dtype \n",
      "---  ------     --------------  ----- \n",
      " 0   tweet_id   7274 non-null   int64 \n",
      " 1   tweet      7273 non-null   object\n",
      " 2   sentiment  7274 non-null   int64 \n",
      "dtypes: int64(2), object(1)\n",
      "memory usage: 170.6+ KB\n"
     ]
    }
   ],
   "source": [
    "df.info()"
   ]
  },
  {
   "cell_type": "code",
   "execution_count": 33,
   "id": "070cbf50",
   "metadata": {},
   "outputs": [
    {
     "data": {
      "text/plain": [
       "<Axes: xlabel='sentiment', ylabel='count'>"
      ]
     },
     "execution_count": 33,
     "metadata": {},
     "output_type": "execute_result"
    },
    {
     "data": {
      "image/png": "[encoded data removed]",
      "text/plain": [
       "<Figure size 640x480 with 1 Axes>"
      ]
     },
     "metadata": {},
     "output_type": "display_data"
    }
   ],
   "source": [
    "sns.countplot(x=\"sentiment\",data=df)\n",
    "#0: Negative, 1: Neutral, 2: Positive, 3: Can't Tell"
   ]
  },
  {
   "cell_type": "code",
   "execution_count": 34,
   "id": "77476e12",
   "metadata": {},
   "outputs": [],
   "source": [
    "# DATA WRANGLING"
   ]
  },
  {
   "cell_type": "code",
   "execution_count": 35,
   "id": "07d71467",
   "metadata": {},
   "outputs": [
    {
     "data": {
      "text/plain": [
       "tweet_id     0\n",
       "tweet        1\n",
       "sentiment    0\n",
       "dtype: int64"
      ]
     },
     "execution_count": 35,
     "metadata": {},
     "output_type": "execute_result"
    }
   ],
   "source": [
    "df.isnull().sum()"
   ]
  },
  {
   "cell_type": "code",
   "execution_count": 36,
   "id": "c1ccc12c",
   "metadata": {},
   "outputs": [
    {
     "data": {
      "text/plain": [
       "<Axes: >"
      ]
     },
     "execution_count": 36,
     "metadata": {},
     "output_type": "execute_result"
    },
    {
     "data": {
      "image/png": "[encoded data removed]",
      "text/plain": [
       "<Figure size 640x480 with 2 Axes>"
      ]
     },
     "metadata": {},
     "output_type": "display_data"
    }
   ],
   "source": [
    "sns.heatmap(df.isnull(),yticklabels=False,cmap=\"viridis\")\n",
    "#1 Missing Value "
   ]
  },
  {
   "cell_type": "code",
   "execution_count": 37,
   "id": "93d46da9",
   "metadata": {},
   "outputs": [],
   "source": [
    "df.drop(\"tweet_id\",axis=1,inplace=True)"
   ]
  },
  {
   "cell_type": "code",
   "execution_count": 38,
   "id": "a98c5760",
   "metadata": {},
   "outputs": [
    {
     "data": {
      "text/html": [
       "<div>\n",
       "<style scoped>\n",
       "    .dataframe tbody tr th:only-of-type {\n",
       "        vertical-align: middle;\n",
       "    }\n",
       "\n",
       "    .dataframe tbody tr th {\n",
       "        vertical-align: top;\n",
       "    }\n",
       "\n",
       "    .dataframe thead th {\n",
       "        text-align: right;\n",
       "    }\n",
       "</style>\n",
       "<table border=\"1\" class=\"dataframe\">\n",
       "  <thead>\n",
       "    <tr style=\"text-align: right;\">\n",
       "      <th></th>\n",
       "      <th>tweet</th>\n",
       "      <th>sentiment</th>\n",
       "    </tr>\n",
       "  </thead>\n",
       "  <tbody>\n",
       "    <tr>\n",
       "      <th>0</th>\n",
       "      <td>#sxswnui #sxsw #apple defining language of tou...</td>\n",
       "      <td>1</td>\n",
       "    </tr>\n",
       "    <tr>\n",
       "      <th>1</th>\n",
       "      <td>Learning ab Google doodles! All doodles should...</td>\n",
       "      <td>1</td>\n",
       "    </tr>\n",
       "    <tr>\n",
       "      <th>2</th>\n",
       "      <td>one of the most in-your-face ex. of stealing t...</td>\n",
       "      <td>2</td>\n",
       "    </tr>\n",
       "    <tr>\n",
       "      <th>3</th>\n",
       "      <td>This iPhone #SXSW app would b pretty awesome i...</td>\n",
       "      <td>0</td>\n",
       "    </tr>\n",
       "    <tr>\n",
       "      <th>4</th>\n",
       "      <td>Line outside the Apple store in Austin waiting...</td>\n",
       "      <td>1</td>\n",
       "    </tr>\n",
       "    <tr>\n",
       "      <th>5</th>\n",
       "      <td>#technews One lone dude awaits iPad 2 at Apple...</td>\n",
       "      <td>1</td>\n",
       "    </tr>\n",
       "    <tr>\n",
       "      <th>6</th>\n",
       "      <td>SXSW Tips, Prince, NPR Videos, Toy Shopping Wi...</td>\n",
       "      <td>1</td>\n",
       "    </tr>\n",
       "    <tr>\n",
       "      <th>7</th>\n",
       "      <td>NU user RT @mention New #UberSocial for #iPhon...</td>\n",
       "      <td>1</td>\n",
       "    </tr>\n",
       "    <tr>\n",
       "      <th>8</th>\n",
       "      <td>Free #SXSW sampler on iTunes {link} #FreeMusic</td>\n",
       "      <td>2</td>\n",
       "    </tr>\n",
       "    <tr>\n",
       "      <th>9</th>\n",
       "      <td>I think I might go all weekend without seeing ...</td>\n",
       "      <td>2</td>\n",
       "    </tr>\n",
       "  </tbody>\n",
       "</table>\n",
       "</div>"
      ],
      "text/plain": [
       "                                               tweet  sentiment\n",
       "0  #sxswnui #sxsw #apple defining language of tou...          1\n",
       "1  Learning ab Google doodles! All doodles should...          1\n",
       "2  one of the most in-your-face ex. of stealing t...          2\n",
       "3  This iPhone #SXSW app would b pretty awesome i...          0\n",
       "4  Line outside the Apple store in Austin waiting...          1\n",
       "5  #technews One lone dude awaits iPad 2 at Apple...          1\n",
       "6  SXSW Tips, Prince, NPR Videos, Toy Shopping Wi...          1\n",
       "7  NU user RT @mention New #UberSocial for #iPhon...          1\n",
       "8     Free #SXSW sampler on iTunes {link} #FreeMusic          2\n",
       "9  I think I might go all weekend without seeing ...          2"
      ]
     },
     "execution_count": 38,
     "metadata": {},
     "output_type": "execute_result"
    }
   ],
   "source": [
    "df.head(10)"
   ]
  },
  {
   "cell_type": "code",
   "execution_count": 39,
   "id": "13a2f611",
   "metadata": {},
   "outputs": [],
   "source": [
    "df.dropna(inplace=True)\n",
    "#Dropping The Column"
   ]
  },
  {
   "cell_type": "code",
   "execution_count": 40,
   "id": "7c9638c3",
   "metadata": {},
   "outputs": [
    {
     "data": {
      "text/plain": [
       "tweet        0\n",
       "sentiment    0\n",
       "dtype: int64"
      ]
     },
     "execution_count": 40,
     "metadata": {},
     "output_type": "execute_result"
    }
   ],
   "source": [
    "df.isnull().sum()"
   ]
  },
  {
   "cell_type": "code",
   "execution_count": 41,
   "id": "5352e89d",
   "metadata": {},
   "outputs": [
    {
     "data": {
      "text/plain": [
       "<Axes: >"
      ]
     },
     "execution_count": 41,
     "metadata": {},
     "output_type": "execute_result"
    },
    {
     "data": {
      "image/png": "[encoded data removed]",
      "text/plain": [
       "<Figure size 640x480 with 2 Axes>"
      ]
     },
     "metadata": {},
     "output_type": "display_data"
    }
   ],
   "source": [
    "sns.heatmap(df.isnull(), linecolor=\"red\",cmap=\"viridis\") \n",
    "# Perfectly Clean Data"
   ]
  },
  {
   "cell_type": "code",
   "execution_count": 42,
   "id": "31881d57",
   "metadata": {},
   "outputs": [
    {
     "data": {
      "text/html": [
       "<div>\n",
       "<style scoped>\n",
       "    .dataframe tbody tr th:only-of-type {\n",
       "        vertical-align: middle;\n",
       "    }\n",
       "\n",
       "    .dataframe tbody tr th {\n",
       "        vertical-align: top;\n",
       "    }\n",
       "\n",
       "    .dataframe thead th {\n",
       "        text-align: right;\n",
       "    }\n",
       "</style>\n",
       "<table border=\"1\" class=\"dataframe\">\n",
       "  <thead>\n",
       "    <tr style=\"text-align: right;\">\n",
       "      <th></th>\n",
       "      <th>tweet</th>\n",
       "      <th>sentiment</th>\n",
       "    </tr>\n",
       "  </thead>\n",
       "  <tbody>\n",
       "    <tr>\n",
       "      <th>0</th>\n",
       "      <td>#sxswnui #sxsw #apple defining language of tou...</td>\n",
       "      <td>1</td>\n",
       "    </tr>\n",
       "    <tr>\n",
       "      <th>1</th>\n",
       "      <td>Learning ab Google doodles! All doodles should...</td>\n",
       "      <td>1</td>\n",
       "    </tr>\n",
       "    <tr>\n",
       "      <th>2</th>\n",
       "      <td>one of the most in-your-face ex. of stealing t...</td>\n",
       "      <td>2</td>\n",
       "    </tr>\n",
       "    <tr>\n",
       "      <th>3</th>\n",
       "      <td>This iPhone #SXSW app would b pretty awesome i...</td>\n",
       "      <td>0</td>\n",
       "    </tr>\n",
       "    <tr>\n",
       "      <th>4</th>\n",
       "      <td>Line outside the Apple store in Austin waiting...</td>\n",
       "      <td>1</td>\n",
       "    </tr>\n",
       "  </tbody>\n",
       "</table>\n",
       "</div>"
      ],
      "text/plain": [
       "                                               tweet  sentiment\n",
       "0  #sxswnui #sxsw #apple defining language of tou...          1\n",
       "1  Learning ab Google doodles! All doodles should...          1\n",
       "2  one of the most in-your-face ex. of stealing t...          2\n",
       "3  This iPhone #SXSW app would b pretty awesome i...          0\n",
       "4  Line outside the Apple store in Austin waiting...          1"
      ]
     },
     "execution_count": 42,
     "metadata": {},
     "output_type": "execute_result"
    }
   ],
   "source": [
    "df.head(5)"
   ]
  },
  {
   "cell_type": "code",
   "execution_count": 43,
   "id": "6472d43d",
   "metadata": {},
   "outputs": [],
   "source": [
    "# EXPLORATORY DATA ANALYSIS"
   ]
  },
  {
   "cell_type": "code",
   "execution_count": 44,
   "id": "938f01a6",
   "metadata": {},
   "outputs": [
    {
     "data": {
      "text/html": [
       "<div>\n",
       "<style scoped>\n",
       "    .dataframe tbody tr th:only-of-type {\n",
       "        vertical-align: middle;\n",
       "    }\n",
       "\n",
       "    .dataframe tbody tr th {\n",
       "        vertical-align: top;\n",
       "    }\n",
       "\n",
       "    .dataframe thead th {\n",
       "        text-align: right;\n",
       "    }\n",
       "</style>\n",
       "<table border=\"1\" class=\"dataframe\">\n",
       "  <thead>\n",
       "    <tr style=\"text-align: right;\">\n",
       "      <th></th>\n",
       "      <th>tweet</th>\n",
       "      <th>word_count</th>\n",
       "    </tr>\n",
       "  </thead>\n",
       "  <tbody>\n",
       "    <tr>\n",
       "      <th>0</th>\n",
       "      <td>#sxswnui #sxsw #apple defining language of tou...</td>\n",
       "      <td>12</td>\n",
       "    </tr>\n",
       "    <tr>\n",
       "      <th>1</th>\n",
       "      <td>Learning ab Google doodles! All doodles should...</td>\n",
       "      <td>19</td>\n",
       "    </tr>\n",
       "    <tr>\n",
       "      <th>2</th>\n",
       "      <td>one of the most in-your-face ex. of stealing t...</td>\n",
       "      <td>23</td>\n",
       "    </tr>\n",
       "    <tr>\n",
       "      <th>3</th>\n",
       "      <td>This iPhone #SXSW app would b pretty awesome i...</td>\n",
       "      <td>19</td>\n",
       "    </tr>\n",
       "    <tr>\n",
       "      <th>4</th>\n",
       "      <td>Line outside the Apple store in Austin waiting...</td>\n",
       "      <td>15</td>\n",
       "    </tr>\n",
       "  </tbody>\n",
       "</table>\n",
       "</div>"
      ],
      "text/plain": [
       "                                               tweet  word_count\n",
       "0  #sxswnui #sxsw #apple defining language of tou...          12\n",
       "1  Learning ab Google doodles! All doodles should...          19\n",
       "2  one of the most in-your-face ex. of stealing t...          23\n",
       "3  This iPhone #SXSW app would b pretty awesome i...          19\n",
       "4  Line outside the Apple store in Austin waiting...          15"
      ]
     },
     "execution_count": 44,
     "metadata": {},
     "output_type": "execute_result"
    }
   ],
   "source": [
    "df['word_count'] = df['tweet'].apply(lambda x: len(str(x).split(\" \")))\n",
    "df[['tweet','word_count']].head()"
   ]
  },
  {
   "cell_type": "code",
   "execution_count": 45,
   "id": "fdef05f8",
   "metadata": {},
   "outputs": [
    {
     "data": {
      "text/html": [
       "<div>\n",
       "<style scoped>\n",
       "    .dataframe tbody tr th:only-of-type {\n",
       "        vertical-align: middle;\n",
       "    }\n",
       "\n",
       "    .dataframe tbody tr th {\n",
       "        vertical-align: top;\n",
       "    }\n",
       "\n",
       "    .dataframe thead th {\n",
       "        text-align: right;\n",
       "    }\n",
       "</style>\n",
       "<table border=\"1\" class=\"dataframe\">\n",
       "  <thead>\n",
       "    <tr style=\"text-align: right;\">\n",
       "      <th></th>\n",
       "      <th>tweet</th>\n",
       "      <th>char_count</th>\n",
       "    </tr>\n",
       "  </thead>\n",
       "  <tbody>\n",
       "    <tr>\n",
       "      <th>0</th>\n",
       "      <td>#sxswnui #sxsw #apple defining language of tou...</td>\n",
       "      <td>89</td>\n",
       "    </tr>\n",
       "    <tr>\n",
       "      <th>1</th>\n",
       "      <td>Learning ab Google doodles! All doodles should...</td>\n",
       "      <td>143</td>\n",
       "    </tr>\n",
       "    <tr>\n",
       "      <th>2</th>\n",
       "      <td>one of the most in-your-face ex. of stealing t...</td>\n",
       "      <td>132</td>\n",
       "    </tr>\n",
       "    <tr>\n",
       "      <th>3</th>\n",
       "      <td>This iPhone #SXSW app would b pretty awesome i...</td>\n",
       "      <td>125</td>\n",
       "    </tr>\n",
       "    <tr>\n",
       "      <th>4</th>\n",
       "      <td>Line outside the Apple store in Austin waiting...</td>\n",
       "      <td>77</td>\n",
       "    </tr>\n",
       "  </tbody>\n",
       "</table>\n",
       "</div>"
      ],
      "text/plain": [
       "                                               tweet  char_count\n",
       "0  #sxswnui #sxsw #apple defining language of tou...          89\n",
       "1  Learning ab Google doodles! All doodles should...         143\n",
       "2  one of the most in-your-face ex. of stealing t...         132\n",
       "3  This iPhone #SXSW app would b pretty awesome i...         125\n",
       "4  Line outside the Apple store in Austin waiting...          77"
      ]
     },
     "execution_count": 45,
     "metadata": {},
     "output_type": "execute_result"
    }
   ],
   "source": [
    "df['char_count'] = df['tweet'].str.len() ## this also includes spaces\n",
    "df[['tweet','char_count']].head()"
   ]
  },
  {
   "cell_type": "code",
   "execution_count": 46,
   "id": "24e750aa",
   "metadata": {},
   "outputs": [
    {
     "data": {
      "text/html": [
       "<div>\n",
       "<style scoped>\n",
       "    .dataframe tbody tr th:only-of-type {\n",
       "        vertical-align: middle;\n",
       "    }\n",
       "\n",
       "    .dataframe tbody tr th {\n",
       "        vertical-align: top;\n",
       "    }\n",
       "\n",
       "    .dataframe thead th {\n",
       "        text-align: right;\n",
       "    }\n",
       "</style>\n",
       "<table border=\"1\" class=\"dataframe\">\n",
       "  <thead>\n",
       "    <tr style=\"text-align: right;\">\n",
       "      <th></th>\n",
       "      <th>tweet</th>\n",
       "      <th>avg_word</th>\n",
       "    </tr>\n",
       "  </thead>\n",
       "  <tbody>\n",
       "    <tr>\n",
       "      <th>0</th>\n",
       "      <td>#sxswnui #sxsw #apple defining language of tou...</td>\n",
       "      <td>6.500000</td>\n",
       "    </tr>\n",
       "    <tr>\n",
       "      <th>1</th>\n",
       "      <td>Learning ab Google doodles! All doodles should...</td>\n",
       "      <td>6.578947</td>\n",
       "    </tr>\n",
       "    <tr>\n",
       "      <th>2</th>\n",
       "      <td>one of the most in-your-face ex. of stealing t...</td>\n",
       "      <td>5.000000</td>\n",
       "    </tr>\n",
       "    <tr>\n",
       "      <th>3</th>\n",
       "      <td>This iPhone #SXSW app would b pretty awesome i...</td>\n",
       "      <td>5.631579</td>\n",
       "    </tr>\n",
       "    <tr>\n",
       "      <th>4</th>\n",
       "      <td>Line outside the Apple store in Austin waiting...</td>\n",
       "      <td>4.500000</td>\n",
       "    </tr>\n",
       "  </tbody>\n",
       "</table>\n",
       "</div>"
      ],
      "text/plain": [
       "                                               tweet  avg_word\n",
       "0  #sxswnui #sxsw #apple defining language of tou...  6.500000\n",
       "1  Learning ab Google doodles! All doodles should...  6.578947\n",
       "2  one of the most in-your-face ex. of stealing t...  5.000000\n",
       "3  This iPhone #SXSW app would b pretty awesome i...  5.631579\n",
       "4  Line outside the Apple store in Austin waiting...  4.500000"
      ]
     },
     "execution_count": 46,
     "metadata": {},
     "output_type": "execute_result"
    }
   ],
   "source": [
    "def avg_word(sentence):\n",
    "  words = sentence.split()\n",
    "  return (sum(len(word) for word in words)/len(words))\n",
    "\n",
    "df['avg_word'] = df['tweet'].apply(lambda x: avg_word(x))\n",
    "df[['tweet','avg_word']].head()"
   ]
  },
  {
   "cell_type": "code",
   "execution_count": 47,
   "id": "bd9c664a",
   "metadata": {},
   "outputs": [
    {
     "name": "stderr",
     "output_type": "stream",
     "text": [
      "[nltk_data] Downloading package stopwords to\n",
      "[nltk_data]     C:\\Users\\hp\\AppData\\Roaming\\nltk_data...\n",
      "[nltk_data]   Unzipping corpora\\stopwords.zip.\n"
     ]
    },
    {
     "data": {
      "text/plain": [
       "True"
      ]
     },
     "execution_count": 47,
     "metadata": {},
     "output_type": "execute_result"
    }
   ],
   "source": [
    "nltk.download('stopwords')\n"
   ]
  },
  {
   "cell_type": "code",
   "execution_count": 48,
   "id": "a0acb306",
   "metadata": {},
   "outputs": [
    {
     "data": {
      "text/html": [
       "<div>\n",
       "<style scoped>\n",
       "    .dataframe tbody tr th:only-of-type {\n",
       "        vertical-align: middle;\n",
       "    }\n",
       "\n",
       "    .dataframe tbody tr th {\n",
       "        vertical-align: top;\n",
       "    }\n",
       "\n",
       "    .dataframe thead th {\n",
       "        text-align: right;\n",
       "    }\n",
       "</style>\n",
       "<table border=\"1\" class=\"dataframe\">\n",
       "  <thead>\n",
       "    <tr style=\"text-align: right;\">\n",
       "      <th></th>\n",
       "      <th>tweet</th>\n",
       "      <th>stopwords</th>\n",
       "    </tr>\n",
       "  </thead>\n",
       "  <tbody>\n",
       "    <tr>\n",
       "      <th>0</th>\n",
       "      <td>#sxswnui #sxsw #apple defining language of tou...</td>\n",
       "      <td>2</td>\n",
       "    </tr>\n",
       "    <tr>\n",
       "      <th>1</th>\n",
       "      <td>Learning ab Google doodles! All doodles should...</td>\n",
       "      <td>4</td>\n",
       "    </tr>\n",
       "    <tr>\n",
       "      <th>2</th>\n",
       "      <td>one of the most in-your-face ex. of stealing t...</td>\n",
       "      <td>7</td>\n",
       "    </tr>\n",
       "    <tr>\n",
       "      <th>3</th>\n",
       "      <td>This iPhone #SXSW app would b pretty awesome i...</td>\n",
       "      <td>4</td>\n",
       "    </tr>\n",
       "    <tr>\n",
       "      <th>4</th>\n",
       "      <td>Line outside the Apple store in Austin waiting...</td>\n",
       "      <td>4</td>\n",
       "    </tr>\n",
       "  </tbody>\n",
       "</table>\n",
       "</div>"
      ],
      "text/plain": [
       "                                               tweet  stopwords\n",
       "0  #sxswnui #sxsw #apple defining language of tou...          2\n",
       "1  Learning ab Google doodles! All doodles should...          4\n",
       "2  one of the most in-your-face ex. of stealing t...          7\n",
       "3  This iPhone #SXSW app would b pretty awesome i...          4\n",
       "4  Line outside the Apple store in Austin waiting...          4"
      ]
     },
     "execution_count": 48,
     "metadata": {},
     "output_type": "execute_result"
    }
   ],
   "source": [
    "from nltk.corpus import stopwords\n",
    "import pandas as pd\n",
    "\n",
    "# Assuming you have already loaded your data into a DataFrame named 'df'\n",
    "stop = stopwords.words('english')\n",
    "df['stopwords'] = df['tweet'].apply(lambda x: len([x for x in x.split() if x in stop]))\n",
    "df[['tweet', 'stopwords']].head()\n"
   ]
  },
  {
   "cell_type": "code",
   "execution_count": 49,
   "id": "6b463b34",
   "metadata": {},
   "outputs": [
    {
     "name": "stdout",
     "output_type": "stream",
     "text": [
      "['i', 'me', 'my', 'myself', 'we', 'our', 'ours', 'ourselves', 'you', \"you're\", \"you've\", \"you'll\", \"you'd\", 'your', 'yours', 'yourself', 'yourselves', 'he', 'him', 'his', 'himself', 'she', \"she's\", 'her', 'hers', 'herself', 'it', \"it's\", 'its', 'itself', 'they', 'them', 'their', 'theirs', 'themselves', 'what', 'which', 'who', 'whom', 'this', 'that', \"that'll\", 'these', 'those', 'am', 'is', 'are', 'was', 'were', 'be', 'been', 'being', 'have', 'has', 'had', 'having', 'do', 'does', 'did', 'doing', 'a', 'an', 'the', 'and', 'but', 'if', 'or', 'because', 'as', 'until', 'while', 'of', 'at', 'by', 'for', 'with', 'about', 'against', 'between', 'into', 'through', 'during', 'before', 'after', 'above', 'below', 'to', 'from', 'up', 'down', 'in', 'out', 'on', 'off', 'over', 'under', 'again', 'further', 'then', 'once', 'here', 'there', 'when', 'where', 'why', 'how', 'all', 'any', 'both', 'each', 'few', 'more', 'most', 'other', 'some', 'such', 'no', 'nor', 'not', 'only', 'own', 'same', 'so', 'than', 'too', 'very', 's', 't', 'can', 'will', 'just', 'don', \"don't\", 'should', \"should've\", 'now', 'd', 'll', 'm', 'o', 're', 've', 'y', 'ain', 'aren', \"aren't\", 'couldn', \"couldn't\", 'didn', \"didn't\", 'doesn', \"doesn't\", 'hadn', \"hadn't\", 'hasn', \"hasn't\", 'haven', \"haven't\", 'isn', \"isn't\", 'ma', 'mightn', \"mightn't\", 'mustn', \"mustn't\", 'needn', \"needn't\", 'shan', \"shan't\", 'shouldn', \"shouldn't\", 'wasn', \"wasn't\", 'weren', \"weren't\", 'won', \"won't\", 'wouldn', \"wouldn't\"]\n"
     ]
    }
   ],
   "source": [
    "print(stop)"
   ]
  },
  {
   "cell_type": "code",
   "execution_count": 50,
   "id": "c9172385",
   "metadata": {},
   "outputs": [
    {
     "data": {
      "text/html": [
       "<div>\n",
       "<style scoped>\n",
       "    .dataframe tbody tr th:only-of-type {\n",
       "        vertical-align: middle;\n",
       "    }\n",
       "\n",
       "    .dataframe tbody tr th {\n",
       "        vertical-align: top;\n",
       "    }\n",
       "\n",
       "    .dataframe thead th {\n",
       "        text-align: right;\n",
       "    }\n",
       "</style>\n",
       "<table border=\"1\" class=\"dataframe\">\n",
       "  <thead>\n",
       "    <tr style=\"text-align: right;\">\n",
       "      <th></th>\n",
       "      <th>tweet</th>\n",
       "      <th>hastags</th>\n",
       "    </tr>\n",
       "  </thead>\n",
       "  <tbody>\n",
       "    <tr>\n",
       "      <th>0</th>\n",
       "      <td>#sxswnui #sxsw #apple defining language of tou...</td>\n",
       "      <td>3</td>\n",
       "    </tr>\n",
       "    <tr>\n",
       "      <th>1</th>\n",
       "      <td>Learning ab Google doodles! All doodles should...</td>\n",
       "      <td>2</td>\n",
       "    </tr>\n",
       "    <tr>\n",
       "      <th>2</th>\n",
       "      <td>one of the most in-your-face ex. of stealing t...</td>\n",
       "      <td>1</td>\n",
       "    </tr>\n",
       "    <tr>\n",
       "      <th>3</th>\n",
       "      <td>This iPhone #SXSW app would b pretty awesome i...</td>\n",
       "      <td>3</td>\n",
       "    </tr>\n",
       "    <tr>\n",
       "      <th>4</th>\n",
       "      <td>Line outside the Apple store in Austin waiting...</td>\n",
       "      <td>1</td>\n",
       "    </tr>\n",
       "  </tbody>\n",
       "</table>\n",
       "</div>"
      ],
      "text/plain": [
       "                                               tweet  hastags\n",
       "0  #sxswnui #sxsw #apple defining language of tou...        3\n",
       "1  Learning ab Google doodles! All doodles should...        2\n",
       "2  one of the most in-your-face ex. of stealing t...        1\n",
       "3  This iPhone #SXSW app would b pretty awesome i...        3\n",
       "4  Line outside the Apple store in Austin waiting...        1"
      ]
     },
     "execution_count": 50,
     "metadata": {},
     "output_type": "execute_result"
    }
   ],
   "source": [
    "df['hastags'] = df['tweet'].apply(lambda x: len([x for x in x.split() if x.startswith('#')]))\n",
    "df[['tweet','hastags']].head()"
   ]
  },
  {
   "cell_type": "code",
   "execution_count": 51,
   "id": "baa0b52a",
   "metadata": {},
   "outputs": [
    {
     "data": {
      "text/html": [
       "<div>\n",
       "<style scoped>\n",
       "    .dataframe tbody tr th:only-of-type {\n",
       "        vertical-align: middle;\n",
       "    }\n",
       "\n",
       "    .dataframe tbody tr th {\n",
       "        vertical-align: top;\n",
       "    }\n",
       "\n",
       "    .dataframe thead th {\n",
       "        text-align: right;\n",
       "    }\n",
       "</style>\n",
       "<table border=\"1\" class=\"dataframe\">\n",
       "  <thead>\n",
       "    <tr style=\"text-align: right;\">\n",
       "      <th></th>\n",
       "      <th>tweet</th>\n",
       "      <th>sentiment</th>\n",
       "      <th>word_count</th>\n",
       "      <th>char_count</th>\n",
       "      <th>avg_word</th>\n",
       "      <th>stopwords</th>\n",
       "      <th>hastags</th>\n",
       "    </tr>\n",
       "  </thead>\n",
       "  <tbody>\n",
       "    <tr>\n",
       "      <th>0</th>\n",
       "      <td>#sxswnui #sxsw #apple defining language of tou...</td>\n",
       "      <td>1</td>\n",
       "      <td>12</td>\n",
       "      <td>89</td>\n",
       "      <td>6.500000</td>\n",
       "      <td>2</td>\n",
       "      <td>3</td>\n",
       "    </tr>\n",
       "    <tr>\n",
       "      <th>1</th>\n",
       "      <td>Learning ab Google doodles! All doodles should...</td>\n",
       "      <td>1</td>\n",
       "      <td>19</td>\n",
       "      <td>143</td>\n",
       "      <td>6.578947</td>\n",
       "      <td>4</td>\n",
       "      <td>2</td>\n",
       "    </tr>\n",
       "    <tr>\n",
       "      <th>2</th>\n",
       "      <td>one of the most in-your-face ex. of stealing t...</td>\n",
       "      <td>2</td>\n",
       "      <td>23</td>\n",
       "      <td>132</td>\n",
       "      <td>5.000000</td>\n",
       "      <td>7</td>\n",
       "      <td>1</td>\n",
       "    </tr>\n",
       "    <tr>\n",
       "      <th>3</th>\n",
       "      <td>This iPhone #SXSW app would b pretty awesome i...</td>\n",
       "      <td>0</td>\n",
       "      <td>19</td>\n",
       "      <td>125</td>\n",
       "      <td>5.631579</td>\n",
       "      <td>4</td>\n",
       "      <td>3</td>\n",
       "    </tr>\n",
       "    <tr>\n",
       "      <th>4</th>\n",
       "      <td>Line outside the Apple store in Austin waiting...</td>\n",
       "      <td>1</td>\n",
       "      <td>15</td>\n",
       "      <td>77</td>\n",
       "      <td>4.500000</td>\n",
       "      <td>4</td>\n",
       "      <td>1</td>\n",
       "    </tr>\n",
       "  </tbody>\n",
       "</table>\n",
       "</div>"
      ],
      "text/plain": [
       "                                               tweet  sentiment  word_count  \\\n",
       "0  #sxswnui #sxsw #apple defining language of tou...          1          12   \n",
       "1  Learning ab Google doodles! All doodles should...          1          19   \n",
       "2  one of the most in-your-face ex. of stealing t...          2          23   \n",
       "3  This iPhone #SXSW app would b pretty awesome i...          0          19   \n",
       "4  Line outside the Apple store in Austin waiting...          1          15   \n",
       "\n",
       "   char_count  avg_word  stopwords  hastags  \n",
       "0          89  6.500000          2        3  \n",
       "1         143  6.578947          4        2  \n",
       "2         132  5.000000          7        1  \n",
       "3         125  5.631579          4        3  \n",
       "4          77  4.500000          4        1  "
      ]
     },
     "execution_count": 51,
     "metadata": {},
     "output_type": "execute_result"
    }
   ],
   "source": [
    "df.head(5)"
   ]
  },
  {
   "cell_type": "code",
   "execution_count": 52,
   "id": "c9e90341",
   "metadata": {},
   "outputs": [
    {
     "data": {
      "text/html": [
       "<div>\n",
       "<style scoped>\n",
       "    .dataframe tbody tr th:only-of-type {\n",
       "        vertical-align: middle;\n",
       "    }\n",
       "\n",
       "    .dataframe tbody tr th {\n",
       "        vertical-align: top;\n",
       "    }\n",
       "\n",
       "    .dataframe thead th {\n",
       "        text-align: right;\n",
       "    }\n",
       "</style>\n",
       "<table border=\"1\" class=\"dataframe\">\n",
       "  <thead>\n",
       "    <tr style=\"text-align: right;\">\n",
       "      <th></th>\n",
       "      <th>tweet</th>\n",
       "      <th>numerics</th>\n",
       "    </tr>\n",
       "  </thead>\n",
       "  <tbody>\n",
       "    <tr>\n",
       "      <th>0</th>\n",
       "      <td>#sxswnui #sxsw #apple defining language of tou...</td>\n",
       "      <td>0</td>\n",
       "    </tr>\n",
       "    <tr>\n",
       "      <th>1</th>\n",
       "      <td>Learning ab Google doodles! All doodles should...</td>\n",
       "      <td>0</td>\n",
       "    </tr>\n",
       "    <tr>\n",
       "      <th>2</th>\n",
       "      <td>one of the most in-your-face ex. of stealing t...</td>\n",
       "      <td>0</td>\n",
       "    </tr>\n",
       "    <tr>\n",
       "      <th>3</th>\n",
       "      <td>This iPhone #SXSW app would b pretty awesome i...</td>\n",
       "      <td>0</td>\n",
       "    </tr>\n",
       "    <tr>\n",
       "      <th>4</th>\n",
       "      <td>Line outside the Apple store in Austin waiting...</td>\n",
       "      <td>0</td>\n",
       "    </tr>\n",
       "  </tbody>\n",
       "</table>\n",
       "</div>"
      ],
      "text/plain": [
       "                                               tweet  numerics\n",
       "0  #sxswnui #sxsw #apple defining language of tou...         0\n",
       "1  Learning ab Google doodles! All doodles should...         0\n",
       "2  one of the most in-your-face ex. of stealing t...         0\n",
       "3  This iPhone #SXSW app would b pretty awesome i...         0\n",
       "4  Line outside the Apple store in Austin waiting...         0"
      ]
     },
     "execution_count": 52,
     "metadata": {},
     "output_type": "execute_result"
    }
   ],
   "source": [
    "df['numerics'] = df['tweet'].apply(lambda x: len([x for x in x.split() if x.isdigit()]))\n",
    "df[['tweet','numerics']].head()\n",
    "#Total Number Present"
   ]
  },
  {
   "cell_type": "code",
   "execution_count": 53,
   "id": "491ead12",
   "metadata": {},
   "outputs": [
    {
     "data": {
      "text/html": [
       "<div>\n",
       "<style scoped>\n",
       "    .dataframe tbody tr th:only-of-type {\n",
       "        vertical-align: middle;\n",
       "    }\n",
       "\n",
       "    .dataframe tbody tr th {\n",
       "        vertical-align: top;\n",
       "    }\n",
       "\n",
       "    .dataframe thead th {\n",
       "        text-align: right;\n",
       "    }\n",
       "</style>\n",
       "<table border=\"1\" class=\"dataframe\">\n",
       "  <thead>\n",
       "    <tr style=\"text-align: right;\">\n",
       "      <th></th>\n",
       "      <th>tweet</th>\n",
       "      <th>upper</th>\n",
       "    </tr>\n",
       "  </thead>\n",
       "  <tbody>\n",
       "    <tr>\n",
       "      <th>0</th>\n",
       "      <td>#sxswnui #sxsw #apple defining language of tou...</td>\n",
       "      <td>0</td>\n",
       "    </tr>\n",
       "    <tr>\n",
       "      <th>1</th>\n",
       "      <td>Learning ab Google doodles! All doodles should...</td>\n",
       "      <td>0</td>\n",
       "    </tr>\n",
       "    <tr>\n",
       "      <th>2</th>\n",
       "      <td>one of the most in-your-face ex. of stealing t...</td>\n",
       "      <td>2</td>\n",
       "    </tr>\n",
       "    <tr>\n",
       "      <th>3</th>\n",
       "      <td>This iPhone #SXSW app would b pretty awesome i...</td>\n",
       "      <td>1</td>\n",
       "    </tr>\n",
       "    <tr>\n",
       "      <th>4</th>\n",
       "      <td>Line outside the Apple store in Austin waiting...</td>\n",
       "      <td>1</td>\n",
       "    </tr>\n",
       "  </tbody>\n",
       "</table>\n",
       "</div>"
      ],
      "text/plain": [
       "                                               tweet  upper\n",
       "0  #sxswnui #sxsw #apple defining language of tou...      0\n",
       "1  Learning ab Google doodles! All doodles should...      0\n",
       "2  one of the most in-your-face ex. of stealing t...      2\n",
       "3  This iPhone #SXSW app would b pretty awesome i...      1\n",
       "4  Line outside the Apple store in Austin waiting...      1"
      ]
     },
     "execution_count": 53,
     "metadata": {},
     "output_type": "execute_result"
    }
   ],
   "source": [
    "df['upper'] = df['tweet'].apply(lambda x: len([x for x in x.split() if x.isupper()]))\n",
    "df[['tweet','upper']].head()\n",
    "#Upper Case Characters Presnt in Datset"
   ]
  },
  {
   "cell_type": "code",
   "execution_count": 54,
   "id": "9c9ee039",
   "metadata": {},
   "outputs": [
    {
     "data": {
      "text/html": [
       "<div>\n",
       "<style scoped>\n",
       "    .dataframe tbody tr th:only-of-type {\n",
       "        vertical-align: middle;\n",
       "    }\n",
       "\n",
       "    .dataframe tbody tr th {\n",
       "        vertical-align: top;\n",
       "    }\n",
       "\n",
       "    .dataframe thead th {\n",
       "        text-align: right;\n",
       "    }\n",
       "</style>\n",
       "<table border=\"1\" class=\"dataframe\">\n",
       "  <thead>\n",
       "    <tr style=\"text-align: right;\">\n",
       "      <th></th>\n",
       "      <th>tweet</th>\n",
       "      <th>sentiment</th>\n",
       "      <th>word_count</th>\n",
       "      <th>char_count</th>\n",
       "      <th>avg_word</th>\n",
       "      <th>stopwords</th>\n",
       "      <th>hastags</th>\n",
       "      <th>numerics</th>\n",
       "      <th>upper</th>\n",
       "    </tr>\n",
       "  </thead>\n",
       "  <tbody>\n",
       "    <tr>\n",
       "      <th>7269</th>\n",
       "      <td>@mention Google plze Tammi.  I'm in middle of ...</td>\n",
       "      <td>1</td>\n",
       "      <td>16</td>\n",
       "      <td>93</td>\n",
       "      <td>5.200000</td>\n",
       "      <td>4</td>\n",
       "      <td>1</td>\n",
       "      <td>0</td>\n",
       "      <td>1</td>\n",
       "    </tr>\n",
       "    <tr>\n",
       "      <th>7270</th>\n",
       "      <td>RT @mention ÷¼ Are you all set? ÷_ {link} ÷...</td>\n",
       "      <td>1</td>\n",
       "      <td>15</td>\n",
       "      <td>91</td>\n",
       "      <td>5.133333</td>\n",
       "      <td>2</td>\n",
       "      <td>5</td>\n",
       "      <td>0</td>\n",
       "      <td>1</td>\n",
       "    </tr>\n",
       "    <tr>\n",
       "      <th>7271</th>\n",
       "      <td>RT @mention Aha! Found proof of lactation room...</td>\n",
       "      <td>1</td>\n",
       "      <td>22</td>\n",
       "      <td>140</td>\n",
       "      <td>5.409091</td>\n",
       "      <td>5</td>\n",
       "      <td>1</td>\n",
       "      <td>0</td>\n",
       "      <td>2</td>\n",
       "    </tr>\n",
       "    <tr>\n",
       "      <th>7272</th>\n",
       "      <td>We just launched our iPad app at #SXSW! Get al...</td>\n",
       "      <td>1</td>\n",
       "      <td>18</td>\n",
       "      <td>92</td>\n",
       "      <td>4.166667</td>\n",
       "      <td>6</td>\n",
       "      <td>1</td>\n",
       "      <td>0</td>\n",
       "      <td>2</td>\n",
       "    </tr>\n",
       "    <tr>\n",
       "      <th>7273</th>\n",
       "      <td>The next fin serv battle is vs Apple, GOOG, Mo...</td>\n",
       "      <td>1</td>\n",
       "      <td>23</td>\n",
       "      <td>137</td>\n",
       "      <td>5.000000</td>\n",
       "      <td>4</td>\n",
       "      <td>2</td>\n",
       "      <td>0</td>\n",
       "      <td>2</td>\n",
       "    </tr>\n",
       "  </tbody>\n",
       "</table>\n",
       "</div>"
      ],
      "text/plain": [
       "                                                  tweet  sentiment  \\\n",
       "7269  @mention Google plze Tammi.  I'm in middle of ...          1   \n",
       "7270  RT @mention ÷¼ Are you all set? ÷_ {link} ÷...          1   \n",
       "7271  RT @mention Aha! Found proof of lactation room...          1   \n",
       "7272  We just launched our iPad app at #SXSW! Get al...          1   \n",
       "7273  The next fin serv battle is vs Apple, GOOG, Mo...          1   \n",
       "\n",
       "      word_count  char_count  avg_word  stopwords  hastags  numerics  upper  \n",
       "7269          16          93  5.200000          4        1         0      1  \n",
       "7270          15          91  5.133333          2        5         0      1  \n",
       "7271          22         140  5.409091          5        1         0      2  \n",
       "7272          18          92  4.166667          6        1         0      2  \n",
       "7273          23         137  5.000000          4        2         0      2  "
      ]
     },
     "execution_count": 54,
     "metadata": {},
     "output_type": "execute_result"
    }
   ],
   "source": [
    "df.tail(5)"
   ]
  },
  {
   "cell_type": "code",
   "execution_count": 55,
   "id": "31a4d3dc",
   "metadata": {},
   "outputs": [],
   "source": [
    "# DATA PREPROCESSING AND CLEANING"
   ]
  },
  {
   "cell_type": "code",
   "execution_count": 56,
   "id": "062435d0",
   "metadata": {},
   "outputs": [
    {
     "data": {
      "text/plain": [
       "0    #sxswnui #sxsw #apple defining language of tou...\n",
       "1    learning ab google doodles! all doodles should...\n",
       "2    one of the most in-your-face ex. of stealing t...\n",
       "3    this iphone #sxsw app would b pretty awesome i...\n",
       "4    line outside the apple store in austin waiting...\n",
       "Name: tweet, dtype: object"
      ]
     },
     "execution_count": 56,
     "metadata": {},
     "output_type": "execute_result"
    }
   ],
   "source": [
    "df['tweet'] = df['tweet'].apply(lambda x: \" \".join(x.lower() for x in x.split()))\n",
    "df['tweet'].head()\n",
    "#Making Everything in LowerCase No Repeatations"
   ]
  },
  {
   "cell_type": "code",
   "execution_count": 57,
   "id": "0464daf8",
   "metadata": {},
   "outputs": [
    {
     "data": {
      "text/plain": [
       "0    #sxswnui #sxsw #apple defining language of tou...\n",
       "1    learning ab google doodles! all doodles should...\n",
       "2    one of the most in-your-face ex. of stealing t...\n",
       "3    this iphone #sxsw app would b pretty awesome i...\n",
       "4    line outside the apple store in austin waiting...\n",
       "Name: tweet, dtype: object"
      ]
     },
     "execution_count": 57,
     "metadata": {},
     "output_type": "execute_result"
    }
   ],
   "source": [
    "df['tweet'] = df['tweet'].str.replace('[^\\w\\s]','')\n",
    "df['tweet'].head()\n",
    "#REMOVING THE PUNCTUCATION"
   ]
  },
  {
   "cell_type": "code",
   "execution_count": 58,
   "id": "564d5052",
   "metadata": {},
   "outputs": [
    {
     "data": {
      "text/plain": [
       "0    #sxswnui #sxsw #apple defining language touch ...\n",
       "1    learning ab google doodles! doodles light, fun...\n",
       "2    one in-your-face ex. stealing show yrs rt @men...\n",
       "3    iphone #sxsw app would b pretty awesome crash ...\n",
       "4    line outside apple store austin waiting new ip...\n",
       "Name: tweet, dtype: object"
      ]
     },
     "execution_count": 58,
     "metadata": {},
     "output_type": "execute_result"
    }
   ],
   "source": [
    "stop = stopwords.words('english')\n",
    "df['tweet'] = df['tweet'].apply(lambda x: \" \".join(x for x in x.split() if x not in stop))\n",
    "df['tweet'].head()\n",
    "# Removing Stopwords"
   ]
  },
  {
   "cell_type": "code",
   "execution_count": 59,
   "id": "2fa0285f",
   "metadata": {},
   "outputs": [],
   "source": [
    "freq = pd.Series(' '.join(df['tweet']).split()).value_counts()[:10]\n",
    "#Commonly Used Words And Thier Count"
   ]
  },
  {
   "cell_type": "code",
   "execution_count": 60,
   "id": "8453f182",
   "metadata": {},
   "outputs": [
    {
     "data": {
      "text/plain": [
       "#sxsw       6290\n",
       "@mention    5366\n",
       "{link}      3405\n",
       "rt          2321\n",
       "google      1493\n",
       "ipad        1486\n",
       "apple       1318\n",
       "store        985\n",
       "new          858\n",
       "iphone       808\n",
       "Name: count, dtype: int64"
      ]
     },
     "execution_count": 60,
     "metadata": {},
     "output_type": "execute_result"
    }
   ],
   "source": [
    "freq"
   ]
  },
  {
   "cell_type": "code",
   "execution_count": 61,
   "id": "44031425",
   "metadata": {},
   "outputs": [
    {
     "data": {
      "text/plain": [
       "0    #sxswnui #apple defining language touch differ...\n",
       "1    learning ab doodles! doodles light, funny &amp...\n",
       "2    one in-your-face ex. stealing show yrs &quot;a...\n",
       "3    app would b pretty awesome crash every 10mins ...\n",
       "4                          line outside austin waiting\n",
       "Name: tweet, dtype: object"
      ]
     },
     "execution_count": 61,
     "metadata": {},
     "output_type": "execute_result"
    }
   ],
   "source": [
    "freq = list(freq.index)\n",
    "df['tweet'] = df['tweet'].apply(lambda x: \" \".join(x for x in x.split() if x not in freq))\n",
    "df['tweet'].head()\n",
    "#Removing the Common Words"
   ]
  },
  {
   "cell_type": "code",
   "execution_count": 62,
   "id": "af3cb77c",
   "metadata": {},
   "outputs": [],
   "source": [
    "freq1 = pd.Series(' '.join(df['tweet']).split()).value_counts()[-10:]\n",
    "# Rare Words From Dataset"
   ]
  },
  {
   "cell_type": "code",
   "execution_count": 63,
   "id": "53310b9e",
   "metadata": {},
   "outputs": [
    {
     "data": {
      "text/plain": [
       "cure:            1\n",
       "droppin          1\n",
       "goers!           1\n",
       "doubt!           1\n",
       "stimulating      1\n",
       "&lt;&amp;        1\n",
       "onsulting        1\n",
       "#normalpeople    1\n",
       "#overheard       1\n",
       "#bankinnovate    1\n",
       "Name: count, dtype: int64"
      ]
     },
     "execution_count": 63,
     "metadata": {},
     "output_type": "execute_result"
    }
   ],
   "source": [
    "freq1"
   ]
  },
  {
   "cell_type": "code",
   "execution_count": 64,
   "id": "ff5a7f2b",
   "metadata": {},
   "outputs": [
    {
     "data": {
      "text/plain": [
       "0    #sxswnui #apple defining language touch differ...\n",
       "1    learning ab doodles! doodles light, funny &amp...\n",
       "2    one in-your-face ex. stealing show yrs &quot;a...\n",
       "3    app would b pretty awesome crash every 10mins ...\n",
       "4                          line outside austin waiting\n",
       "Name: tweet, dtype: object"
      ]
     },
     "execution_count": 64,
     "metadata": {},
     "output_type": "execute_result"
    }
   ],
   "source": [
    "freq1 = list(freq1.index)\n",
    "df['tweet'] = df['tweet'].apply(lambda x: \" \".join(x for x in x.split() if x not in freq1))\n",
    "df['tweet'].head()\n",
    "#Removing Rare Words From Dataset"
   ]
  },
  {
   "cell_type": "code",
   "execution_count": 65,
   "id": "5e72da39",
   "metadata": {},
   "outputs": [
    {
     "data": {
      "text/plain": [
       "0    #sxswnui #apple defining language touch differ...\n",
       "1    learning ab doubles! doubles light, funny &amp...\n",
       "2    one in-your-face ex. stealing show yes &quit;a...\n",
       "3    pp would b pretty awesome crash every 10mins e...\n",
       "4                          line outside austin waiting\n",
       "Name: tweet, dtype: object"
      ]
     },
     "execution_count": 65,
     "metadata": {},
     "output_type": "execute_result"
    }
   ],
   "source": [
    "df['tweet'][:5].apply(lambda x: str(TextBlob(x).correct()))\n",
    "#Words Correction analytics and analtycs"
   ]
  },
  {
   "cell_type": "code",
   "execution_count": 69,
   "id": "199709e5",
   "metadata": {},
   "outputs": [],
   "source": [
    "#ADVANCED TEXT PROCESSING\n",
    "\n"
   ]
  },
  {
   "cell_type": "code",
   "execution_count": 71,
   "id": "48edeb4d",
   "metadata": {},
   "outputs": [
    {
     "data": {
      "text/html": [
       "<div>\n",
       "<style scoped>\n",
       "    .dataframe tbody tr th:only-of-type {\n",
       "        vertical-align: middle;\n",
       "    }\n",
       "\n",
       "    .dataframe tbody tr th {\n",
       "        vertical-align: top;\n",
       "    }\n",
       "\n",
       "    .dataframe thead th {\n",
       "        text-align: right;\n",
       "    }\n",
       "</style>\n",
       "<table border=\"1\" class=\"dataframe\">\n",
       "  <thead>\n",
       "    <tr style=\"text-align: right;\">\n",
       "      <th></th>\n",
       "      <th>words</th>\n",
       "      <th>tf</th>\n",
       "    </tr>\n",
       "  </thead>\n",
       "  <tbody>\n",
       "    <tr>\n",
       "      <th>0</th>\n",
       "      <td>learning</td>\n",
       "      <td>1</td>\n",
       "    </tr>\n",
       "    <tr>\n",
       "      <th>1</th>\n",
       "      <td>ab</td>\n",
       "      <td>1</td>\n",
       "    </tr>\n",
       "    <tr>\n",
       "      <th>2</th>\n",
       "      <td>doodles!</td>\n",
       "      <td>1</td>\n",
       "    </tr>\n",
       "    <tr>\n",
       "      <th>3</th>\n",
       "      <td>doodles</td>\n",
       "      <td>1</td>\n",
       "    </tr>\n",
       "    <tr>\n",
       "      <th>4</th>\n",
       "      <td>light,</td>\n",
       "      <td>1</td>\n",
       "    </tr>\n",
       "    <tr>\n",
       "      <th>5</th>\n",
       "      <td>funny</td>\n",
       "      <td>1</td>\n",
       "    </tr>\n",
       "    <tr>\n",
       "      <th>6</th>\n",
       "      <td>&amp;amp;</td>\n",
       "      <td>1</td>\n",
       "    </tr>\n",
       "    <tr>\n",
       "      <th>7</th>\n",
       "      <td>innovative,</td>\n",
       "      <td>1</td>\n",
       "    </tr>\n",
       "    <tr>\n",
       "      <th>8</th>\n",
       "      <td>exceptions</td>\n",
       "      <td>1</td>\n",
       "    </tr>\n",
       "    <tr>\n",
       "      <th>9</th>\n",
       "      <td>significant</td>\n",
       "      <td>1</td>\n",
       "    </tr>\n",
       "    <tr>\n",
       "      <th>10</th>\n",
       "      <td>occasions.</td>\n",
       "      <td>1</td>\n",
       "    </tr>\n",
       "    <tr>\n",
       "      <th>11</th>\n",
       "      <td>#googledoodle</td>\n",
       "      <td>1</td>\n",
       "    </tr>\n",
       "  </tbody>\n",
       "</table>\n",
       "</div>"
      ],
      "text/plain": [
       "            words  tf\n",
       "0        learning   1\n",
       "1              ab   1\n",
       "2        doodles!   1\n",
       "3         doodles   1\n",
       "4          light,   1\n",
       "5           funny   1\n",
       "6           &amp;   1\n",
       "7     innovative,   1\n",
       "8      exceptions   1\n",
       "9     significant   1\n",
       "10     occasions.   1\n",
       "11  #googledoodle   1"
      ]
     },
     "execution_count": 71,
     "metadata": {},
     "output_type": "execute_result"
    }
   ],
   "source": [
    "tf1 = (df['tweet'][1:2]).apply(lambda x: pd.value_counts(x.split(\" \"))).sum(axis = 0).reset_index()\n",
    "tf1.columns = ['words','tf']\n",
    "tf1\n",
    "#Term frequency is simply the ratio of the count of a word present in a sentence, to the length of the sentence."
   ]
  },
  {
   "cell_type": "code",
   "execution_count": 72,
   "id": "13a52a95",
   "metadata": {},
   "outputs": [
    {
     "data": {
      "text/html": [
       "<div>\n",
       "<style scoped>\n",
       "    .dataframe tbody tr th:only-of-type {\n",
       "        vertical-align: middle;\n",
       "    }\n",
       "\n",
       "    .dataframe tbody tr th {\n",
       "        vertical-align: top;\n",
       "    }\n",
       "\n",
       "    .dataframe thead th {\n",
       "        text-align: right;\n",
       "    }\n",
       "</style>\n",
       "<table border=\"1\" class=\"dataframe\">\n",
       "  <thead>\n",
       "    <tr style=\"text-align: right;\">\n",
       "      <th></th>\n",
       "      <th>words</th>\n",
       "      <th>tf</th>\n",
       "      <th>idf</th>\n",
       "    </tr>\n",
       "  </thead>\n",
       "  <tbody>\n",
       "    <tr>\n",
       "      <th>0</th>\n",
       "      <td>learning</td>\n",
       "      <td>1</td>\n",
       "      <td>6.326975</td>\n",
       "    </tr>\n",
       "    <tr>\n",
       "      <th>1</th>\n",
       "      <td>ab</td>\n",
       "      <td>1</td>\n",
       "      <td>2.780457</td>\n",
       "    </tr>\n",
       "    <tr>\n",
       "      <th>2</th>\n",
       "      <td>doodles!</td>\n",
       "      <td>1</td>\n",
       "      <td>8.891924</td>\n",
       "    </tr>\n",
       "    <tr>\n",
       "      <th>3</th>\n",
       "      <td>doodles</td>\n",
       "      <td>1</td>\n",
       "      <td>5.800882</td>\n",
       "    </tr>\n",
       "    <tr>\n",
       "      <th>4</th>\n",
       "      <td>light,</td>\n",
       "      <td>1</td>\n",
       "      <td>7.505630</td>\n",
       "    </tr>\n",
       "    <tr>\n",
       "      <th>5</th>\n",
       "      <td>funny</td>\n",
       "      <td>1</td>\n",
       "      <td>5.896192</td>\n",
       "    </tr>\n",
       "    <tr>\n",
       "      <th>6</th>\n",
       "      <td>&amp;amp;</td>\n",
       "      <td>1</td>\n",
       "      <td>2.493329</td>\n",
       "    </tr>\n",
       "    <tr>\n",
       "      <th>7</th>\n",
       "      <td>innovative,</td>\n",
       "      <td>1</td>\n",
       "      <td>8.891924</td>\n",
       "    </tr>\n",
       "    <tr>\n",
       "      <th>8</th>\n",
       "      <td>exceptions</td>\n",
       "      <td>1</td>\n",
       "      <td>8.891924</td>\n",
       "    </tr>\n",
       "    <tr>\n",
       "      <th>9</th>\n",
       "      <td>significant</td>\n",
       "      <td>1</td>\n",
       "      <td>8.891924</td>\n",
       "    </tr>\n",
       "    <tr>\n",
       "      <th>10</th>\n",
       "      <td>occasions.</td>\n",
       "      <td>1</td>\n",
       "      <td>8.891924</td>\n",
       "    </tr>\n",
       "    <tr>\n",
       "      <th>11</th>\n",
       "      <td>#googledoodle</td>\n",
       "      <td>1</td>\n",
       "      <td>6.183874</td>\n",
       "    </tr>\n",
       "  </tbody>\n",
       "</table>\n",
       "</div>"
      ],
      "text/plain": [
       "            words  tf       idf\n",
       "0        learning   1  6.326975\n",
       "1              ab   1  2.780457\n",
       "2        doodles!   1  8.891924\n",
       "3         doodles   1  5.800882\n",
       "4          light,   1  7.505630\n",
       "5           funny   1  5.896192\n",
       "6           &amp;   1  2.493329\n",
       "7     innovative,   1  8.891924\n",
       "8      exceptions   1  8.891924\n",
       "9     significant   1  8.891924\n",
       "10     occasions.   1  8.891924\n",
       "11  #googledoodle   1  6.183874"
      ]
     },
     "execution_count": 72,
     "metadata": {},
     "output_type": "execute_result"
    }
   ],
   "source": [
    "for i,word in enumerate(tf1['words']):\n",
    "  tf1.loc[i, 'idf'] = np.log(df.shape[0]/(len(df[df['tweet'].str.contains(word)])))\n",
    "tf1\n",
    "#The intuition behind inverse document frequency (IDF) is that a word is not of much use to us if it’s appearing\n",
    "#in all the documents."
   ]
  },
  {
   "cell_type": "code",
   "execution_count": 73,
   "id": "5d728069",
   "metadata": {},
   "outputs": [
    {
     "data": {
      "text/html": [
       "<div>\n",
       "<style scoped>\n",
       "    .dataframe tbody tr th:only-of-type {\n",
       "        vertical-align: middle;\n",
       "    }\n",
       "\n",
       "    .dataframe tbody tr th {\n",
       "        vertical-align: top;\n",
       "    }\n",
       "\n",
       "    .dataframe thead th {\n",
       "        text-align: right;\n",
       "    }\n",
       "</style>\n",
       "<table border=\"1\" class=\"dataframe\">\n",
       "  <thead>\n",
       "    <tr style=\"text-align: right;\">\n",
       "      <th></th>\n",
       "      <th>words</th>\n",
       "      <th>tf</th>\n",
       "      <th>idf</th>\n",
       "      <th>tfidf</th>\n",
       "    </tr>\n",
       "  </thead>\n",
       "  <tbody>\n",
       "    <tr>\n",
       "      <th>0</th>\n",
       "      <td>learning</td>\n",
       "      <td>1</td>\n",
       "      <td>6.326975</td>\n",
       "      <td>6.326975</td>\n",
       "    </tr>\n",
       "    <tr>\n",
       "      <th>1</th>\n",
       "      <td>ab</td>\n",
       "      <td>1</td>\n",
       "      <td>2.780457</td>\n",
       "      <td>2.780457</td>\n",
       "    </tr>\n",
       "    <tr>\n",
       "      <th>2</th>\n",
       "      <td>doodles!</td>\n",
       "      <td>1</td>\n",
       "      <td>8.891924</td>\n",
       "      <td>8.891924</td>\n",
       "    </tr>\n",
       "    <tr>\n",
       "      <th>3</th>\n",
       "      <td>doodles</td>\n",
       "      <td>1</td>\n",
       "      <td>5.800882</td>\n",
       "      <td>5.800882</td>\n",
       "    </tr>\n",
       "    <tr>\n",
       "      <th>4</th>\n",
       "      <td>light,</td>\n",
       "      <td>1</td>\n",
       "      <td>7.505630</td>\n",
       "      <td>7.505630</td>\n",
       "    </tr>\n",
       "    <tr>\n",
       "      <th>5</th>\n",
       "      <td>funny</td>\n",
       "      <td>1</td>\n",
       "      <td>5.896192</td>\n",
       "      <td>5.896192</td>\n",
       "    </tr>\n",
       "    <tr>\n",
       "      <th>6</th>\n",
       "      <td>&amp;amp;</td>\n",
       "      <td>1</td>\n",
       "      <td>2.493329</td>\n",
       "      <td>2.493329</td>\n",
       "    </tr>\n",
       "    <tr>\n",
       "      <th>7</th>\n",
       "      <td>innovative,</td>\n",
       "      <td>1</td>\n",
       "      <td>8.891924</td>\n",
       "      <td>8.891924</td>\n",
       "    </tr>\n",
       "    <tr>\n",
       "      <th>8</th>\n",
       "      <td>exceptions</td>\n",
       "      <td>1</td>\n",
       "      <td>8.891924</td>\n",
       "      <td>8.891924</td>\n",
       "    </tr>\n",
       "    <tr>\n",
       "      <th>9</th>\n",
       "      <td>significant</td>\n",
       "      <td>1</td>\n",
       "      <td>8.891924</td>\n",
       "      <td>8.891924</td>\n",
       "    </tr>\n",
       "    <tr>\n",
       "      <th>10</th>\n",
       "      <td>occasions.</td>\n",
       "      <td>1</td>\n",
       "      <td>8.891924</td>\n",
       "      <td>8.891924</td>\n",
       "    </tr>\n",
       "    <tr>\n",
       "      <th>11</th>\n",
       "      <td>#googledoodle</td>\n",
       "      <td>1</td>\n",
       "      <td>6.183874</td>\n",
       "      <td>6.183874</td>\n",
       "    </tr>\n",
       "  </tbody>\n",
       "</table>\n",
       "</div>"
      ],
      "text/plain": [
       "            words  tf       idf     tfidf\n",
       "0        learning   1  6.326975  6.326975\n",
       "1              ab   1  2.780457  2.780457\n",
       "2        doodles!   1  8.891924  8.891924\n",
       "3         doodles   1  5.800882  5.800882\n",
       "4          light,   1  7.505630  7.505630\n",
       "5           funny   1  5.896192  5.896192\n",
       "6           &amp;   1  2.493329  2.493329\n",
       "7     innovative,   1  8.891924  8.891924\n",
       "8      exceptions   1  8.891924  8.891924\n",
       "9     significant   1  8.891924  8.891924\n",
       "10     occasions.   1  8.891924  8.891924\n",
       "11  #googledoodle   1  6.183874  6.183874"
      ]
     },
     "execution_count": 73,
     "metadata": {},
     "output_type": "execute_result"
    }
   ],
   "source": [
    "tf1['tfidf'] = tf1['tf'] * tf1['idf']\n",
    "tf1\n",
    "#TF-IDF is the multiplication of the TF and IDF which we calculated above."
   ]
  },
  {
   "cell_type": "code",
   "execution_count": 74,
   "id": "693d252c",
   "metadata": {},
   "outputs": [],
   "source": [
    "df_copy=df"
   ]
  },
  {
   "cell_type": "code",
   "execution_count": 75,
   "id": "b9b4b846",
   "metadata": {},
   "outputs": [
    {
     "name": "stdout",
     "output_type": "stream",
     "text": [
      "The history saving thread hit an unexpected error (OperationalError('database or disk is full')).History will not be written to the database."
     ]
    },
    {
     "data": {
      "text/html": [
       "<div>\n",
       "<style scoped>\n",
       "    .dataframe tbody tr th:only-of-type {\n",
       "        vertical-align: middle;\n",
       "    }\n",
       "\n",
       "    .dataframe tbody tr th {\n",
       "        vertical-align: top;\n",
       "    }\n",
       "\n",
       "    .dataframe thead th {\n",
       "        text-align: right;\n",
       "    }\n",
       "</style>\n",
       "<table border=\"1\" class=\"dataframe\">\n",
       "  <thead>\n",
       "    <tr style=\"text-align: right;\">\n",
       "      <th></th>\n",
       "      <th>tweet</th>\n",
       "      <th>sentiment</th>\n",
       "      <th>word_count</th>\n",
       "      <th>char_count</th>\n",
       "      <th>avg_word</th>\n",
       "      <th>stopwords</th>\n",
       "      <th>hastags</th>\n",
       "      <th>numerics</th>\n",
       "      <th>upper</th>\n",
       "    </tr>\n",
       "  </thead>\n",
       "  <tbody>\n",
       "    <tr>\n",
       "      <th>0</th>\n",
       "      <td>#sxswnui #apple defining language touch differ...</td>\n",
       "      <td>1</td>\n",
       "      <td>12</td>\n",
       "      <td>89</td>\n",
       "      <td>6.500000</td>\n",
       "      <td>2</td>\n",
       "      <td>3</td>\n",
       "      <td>0</td>\n",
       "      <td>0</td>\n",
       "    </tr>\n",
       "    <tr>\n",
       "      <th>1</th>\n",
       "      <td>learning ab doodles! doodles light, funny &amp;amp...</td>\n",
       "      <td>1</td>\n",
       "      <td>19</td>\n",
       "      <td>143</td>\n",
       "      <td>6.578947</td>\n",
       "      <td>4</td>\n",
       "      <td>2</td>\n",
       "      <td>0</td>\n",
       "      <td>0</td>\n",
       "    </tr>\n",
       "    <tr>\n",
       "      <th>2</th>\n",
       "      <td>one in-your-face ex. stealing show yrs &amp;quot;a...</td>\n",
       "      <td>2</td>\n",
       "      <td>23</td>\n",
       "      <td>132</td>\n",
       "      <td>5.000000</td>\n",
       "      <td>7</td>\n",
       "      <td>1</td>\n",
       "      <td>0</td>\n",
       "      <td>2</td>\n",
       "    </tr>\n",
       "    <tr>\n",
       "      <th>3</th>\n",
       "      <td>app would b pretty awesome crash every 10mins ...</td>\n",
       "      <td>0</td>\n",
       "      <td>19</td>\n",
       "      <td>125</td>\n",
       "      <td>5.631579</td>\n",
       "      <td>4</td>\n",
       "      <td>3</td>\n",
       "      <td>0</td>\n",
       "      <td>1</td>\n",
       "    </tr>\n",
       "    <tr>\n",
       "      <th>4</th>\n",
       "      <td>line outside austin waiting</td>\n",
       "      <td>1</td>\n",
       "      <td>15</td>\n",
       "      <td>77</td>\n",
       "      <td>4.500000</td>\n",
       "      <td>4</td>\n",
       "      <td>1</td>\n",
       "      <td>0</td>\n",
       "      <td>1</td>\n",
       "    </tr>\n",
       "  </tbody>\n",
       "</table>\n",
       "</div>"
      ],
      "text/plain": [
       "                                               tweet  sentiment  word_count  \\\n",
       "0  #sxswnui #apple defining language touch differ...          1          12   \n",
       "1  learning ab doodles! doodles light, funny &amp...          1          19   \n",
       "2  one in-your-face ex. stealing show yrs &quot;a...          2          23   \n",
       "3  app would b pretty awesome crash every 10mins ...          0          19   \n",
       "4                        line outside austin waiting          1          15   \n",
       "\n",
       "   char_count  avg_word  stopwords  hastags  numerics  upper  \n",
       "0          89  6.500000          2        3         0      0  \n",
       "1         143  6.578947          4        2         0      0  \n",
       "2         132  5.000000          7        1         0      2  \n",
       "3         125  5.631579          4        3         0      1  \n",
       "4          77  4.500000          4        1         0      1  "
      ]
     },
     "execution_count": 75,
     "metadata": {},
     "output_type": "execute_result"
    },
    {
     "name": "stdout",
     "output_type": "stream",
     "text": [
      "\n"
     ]
    }
   ],
   "source": [
    "df_copy.head()"
   ]
  },
  {
   "cell_type": "code",
   "execution_count": 76,
   "id": "749f8829",
   "metadata": {},
   "outputs": [],
   "source": [
    "# df.drop([\"word_count\",\"char_count\",\"avg_word\",\"hastags\",\"numerics\",\"upper\",\"stopwords\"],inplace=True,axis=1)"
   ]
  },
  {
   "cell_type": "code",
   "execution_count": 79,
   "id": "0c0fc1c0",
   "metadata": {},
   "outputs": [
    {
     "data": {
      "text/html": [
       "<div>\n",
       "<style scoped>\n",
       "    .dataframe tbody tr th:only-of-type {\n",
       "        vertical-align: middle;\n",
       "    }\n",
       "\n",
       "    .dataframe tbody tr th {\n",
       "        vertical-align: top;\n",
       "    }\n",
       "\n",
       "    .dataframe thead th {\n",
       "        text-align: right;\n",
       "    }\n",
       "</style>\n",
       "<table border=\"1\" class=\"dataframe\">\n",
       "  <thead>\n",
       "    <tr style=\"text-align: right;\">\n",
       "      <th></th>\n",
       "      <th>tweet</th>\n",
       "      <th>sentiment</th>\n",
       "      <th>word_count</th>\n",
       "      <th>char_count</th>\n",
       "      <th>avg_word</th>\n",
       "      <th>stopwords</th>\n",
       "      <th>hastags</th>\n",
       "      <th>numerics</th>\n",
       "      <th>upper</th>\n",
       "    </tr>\n",
       "  </thead>\n",
       "  <tbody>\n",
       "    <tr>\n",
       "      <th>0</th>\n",
       "      <td>#sxswnui #apple defining language touch differ...</td>\n",
       "      <td>1</td>\n",
       "      <td>12</td>\n",
       "      <td>89</td>\n",
       "      <td>6.500000</td>\n",
       "      <td>2</td>\n",
       "      <td>3</td>\n",
       "      <td>0</td>\n",
       "      <td>0</td>\n",
       "    </tr>\n",
       "    <tr>\n",
       "      <th>1</th>\n",
       "      <td>learning ab doodles! doodles light, funny &amp;amp...</td>\n",
       "      <td>1</td>\n",
       "      <td>19</td>\n",
       "      <td>143</td>\n",
       "      <td>6.578947</td>\n",
       "      <td>4</td>\n",
       "      <td>2</td>\n",
       "      <td>0</td>\n",
       "      <td>0</td>\n",
       "    </tr>\n",
       "    <tr>\n",
       "      <th>2</th>\n",
       "      <td>one in-your-face ex. stealing show yrs &amp;quot;a...</td>\n",
       "      <td>2</td>\n",
       "      <td>23</td>\n",
       "      <td>132</td>\n",
       "      <td>5.000000</td>\n",
       "      <td>7</td>\n",
       "      <td>1</td>\n",
       "      <td>0</td>\n",
       "      <td>2</td>\n",
       "    </tr>\n",
       "    <tr>\n",
       "      <th>3</th>\n",
       "      <td>app would b pretty awesome crash every 10mins ...</td>\n",
       "      <td>0</td>\n",
       "      <td>19</td>\n",
       "      <td>125</td>\n",
       "      <td>5.631579</td>\n",
       "      <td>4</td>\n",
       "      <td>3</td>\n",
       "      <td>0</td>\n",
       "      <td>1</td>\n",
       "    </tr>\n",
       "    <tr>\n",
       "      <th>4</th>\n",
       "      <td>line outside austin waiting</td>\n",
       "      <td>1</td>\n",
       "      <td>15</td>\n",
       "      <td>77</td>\n",
       "      <td>4.500000</td>\n",
       "      <td>4</td>\n",
       "      <td>1</td>\n",
       "      <td>0</td>\n",
       "      <td>1</td>\n",
       "    </tr>\n",
       "  </tbody>\n",
       "</table>\n",
       "</div>"
      ],
      "text/plain": [
       "                                               tweet  sentiment  word_count  \\\n",
       "0  #sxswnui #apple defining language touch differ...          1          12   \n",
       "1  learning ab doodles! doodles light, funny &amp...          1          19   \n",
       "2  one in-your-face ex. stealing show yrs &quot;a...          2          23   \n",
       "3  app would b pretty awesome crash every 10mins ...          0          19   \n",
       "4                        line outside austin waiting          1          15   \n",
       "\n",
       "   char_count  avg_word  stopwords  hastags  numerics  upper  \n",
       "0          89  6.500000          2        3         0      0  \n",
       "1         143  6.578947          4        2         0      0  \n",
       "2         132  5.000000          7        1         0      2  \n",
       "3         125  5.631579          4        3         0      1  \n",
       "4          77  4.500000          4        1         0      1  "
      ]
     },
     "execution_count": 79,
     "metadata": {},
     "output_type": "execute_result"
    }
   ],
   "source": [
    "df.head(5)"
   ]
  },
  {
   "cell_type": "code",
   "execution_count": 81,
   "id": "4089922d",
   "metadata": {},
   "outputs": [],
   "source": [
    "df.to_csv('newtwitter.csv') "
   ]
  },
  {
   "cell_type": "code",
   "execution_count": 82,
   "id": "585e9a2d",
   "metadata": {},
   "outputs": [
    {
     "name": "stdout",
     "output_type": "stream",
     "text": [
      "Collecting WordCloud\n",
      "  Obtaining dependency information for WordCloud from https://files.pythonhosted.org/packages/5a/5f/f4164295d6853ec6203bc728dea4da76a7145ba70482eab9e994d26e0e13/wordcloud-1.9.2-cp310-cp310-win_amd64.whl.metadata\n",
      "  Downloading wordcloud-1.9.2-cp310-cp310-win_amd64.whl.metadata (3.4 kB)\n",
      "Requirement already satisfied: numpy>=1.6.1 in c:\\users\\hp\\appdata\\local\\programs\\python\\python310\\lib\\site-packages (from WordCloud) (1.24.3)\n",
      "Requirement already satisfied: pillow in c:\\users\\hp\\appdata\\local\\programs\\python\\python310\\lib\\site-packages (from WordCloud) (9.5.0)\n",
      "Requirement already satisfied: matplotlib in c:\\users\\hp\\appdata\\local\\programs\\python\\python310\\lib\\site-packages (from WordCloud) (3.7.1)\n",
      "Requirement already satisfied: contourpy>=1.0.1 in c:\\users\\hp\\appdata\\local\\programs\\python\\python310\\lib\\site-packages (from matplotlib->WordCloud) (1.0.7)\n",
      "Requirement already satisfied: cycler>=0.10 in c:\\users\\hp\\appdata\\local\\programs\\python\\python310\\lib\\site-packages (from matplotlib->WordCloud) (0.11.0)\n",
      "Requirement already satisfied: fonttools>=4.22.0 in c:\\users\\hp\\appdata\\local\\programs\\python\\python310\\lib\\site-packages (from matplotlib->WordCloud) (4.39.4)\n",
      "Requirement already satisfied: kiwisolver>=1.0.1 in c:\\users\\hp\\appdata\\local\\programs\\python\\python310\\lib\\site-packages (from matplotlib->WordCloud) (1.4.4)\n",
      "Requirement already satisfied: packaging>=20.0 in c:\\users\\hp\\appdata\\local\\programs\\python\\python310\\lib\\site-packages (from matplotlib->WordCloud) (23.1)\n",
      "Requirement already satisfied: pyparsing>=2.3.1 in c:\\users\\hp\\appdata\\local\\programs\\python\\python310\\lib\\site-packages (from matplotlib->WordCloud) (3.0.9)\n",
      "Requirement already satisfied: python-dateutil>=2.7 in c:\\users\\hp\\appdata\\local\\programs\\python\\python310\\lib\\site-packages (from matplotlib->WordCloud) (2.8.2)\n",
      "Requirement already satisfied: six>=1.5 in c:\\users\\hp\\appdata\\local\\programs\\python\\python310\\lib\\site-packages (from python-dateutil>=2.7->matplotlib->WordCloud) (1.16.0)\n",
      "Downloading wordcloud-1.9.2-cp310-cp310-win_amd64.whl (152 kB)\n",
      "   ---------------------------------------- 0.0/152.1 kB ? eta -:--:--\n",
      "   ---------------------------------------- 152.1/152.1 kB 4.4 MB/s eta 0:00:00\n",
      "Installing collected packages: WordCloud\n",
      "Successfully installed WordCloud-1.9.2\n"
     ]
    }
   ],
   "source": [
    "!pip install WordCloud"
   ]
  },
  {
   "cell_type": "code",
   "execution_count": 83,
   "id": "59490ab8",
   "metadata": {},
   "outputs": [],
   "source": [
    "from wordcloud import WordCloud\n",
    "from PIL import Image\n",
    "import requests"
   ]
  },
  {
   "cell_type": "code",
   "execution_count": 84,
   "id": "b49b072a",
   "metadata": {},
   "outputs": [],
   "source": [
    "all_words = ' '.join([text for text in df['tweet']])"
   ]
  },
  {
   "cell_type": "code",
   "execution_count": 85,
   "id": "82133c0e",
   "metadata": {},
   "outputs": [],
   "source": [
    "mask = np.array(Image.open(requests.get('https://lofrev.net/wp-content/photos/2016/07/twitter_logo.jpg', stream=True).raw))"
   ]
  },
  {
   "cell_type": "code",
   "execution_count": 86,
   "id": "70e4c569",
   "metadata": {},
   "outputs": [
    {
     "data": {
      "image/png": "[encoded data removed]",
      "text/plain": [
       "<Figure size 2000x1800 with 1 Axes>"
      ]
     },
     "metadata": {},
     "output_type": "display_data"
    }
   ],
   "source": [
    "def generate_wordcloud(all_words, mask):\n",
    "    word_cloud = WordCloud(width = 900, height = 600, background_color='black', mask=mask).generate(all_words)\n",
    "    plt.figure(figsize=(20,18),facecolor = 'white', edgecolor='blue')\n",
    "    plt.figure\n",
    "    plt.imshow(word_cloud)\n",
    "    plt.axis('off')\n",
    "    plt.tight_layout(pad=0)\n",
    "    plt.show()\n",
    "generate_wordcloud(all_words,mask)"
   ]
  },
  {
   "cell_type": "code",
   "execution_count": 87,
   "id": "8a0575c1",
   "metadata": {},
   "outputs": [],
   "source": [
    "# MODEL 1"
   ]
  },
  {
   "cell_type": "code",
   "execution_count": 88,
   "id": "8fd6d137",
   "metadata": {},
   "outputs": [],
   "source": [
    "import numpy as np\n",
    "from sklearn.model_selection import train_test_split"
   ]
  },
  {
   "cell_type": "code",
   "execution_count": 89,
   "id": "1be1eba1",
   "metadata": {},
   "outputs": [],
   "source": [
    "X_train, X_test, y_train, y_test = train_test_split(df_copy.drop(['sentiment'], axis = 1), df_copy['sentiment'], test_size=0.33, random_state=42)"
   ]
  },
  {
   "cell_type": "code",
   "execution_count": 90,
   "id": "6b62645d",
   "metadata": {},
   "outputs": [
    {
     "data": {
      "text/plain": [
       "<7273x1000 sparse matrix of type '<class 'numpy.float64'>'\n",
       "\twith 41821 stored elements in Compressed Sparse Row format>"
      ]
     },
     "execution_count": 90,
     "metadata": {},
     "output_type": "execute_result"
    }
   ],
   "source": [
    "from sklearn.feature_extraction.text import TfidfVectorizer\n",
    "\n",
    "tfidf = TfidfVectorizer(max_features=1000, lowercase=True, analyzer='word',\n",
    "stop_words= 'english',ngram_range=(1,1))\n",
    "train_vect = tfidf.fit_transform(df_copy['tweet'])\n",
    "\n",
    "train_vect"
   ]
  },
  {
   "cell_type": "code",
   "execution_count": 93,
   "id": "1db1a15a",
   "metadata": {},
   "outputs": [
    {
     "data": {
      "text/html": [
       "<div>\n",
       "<style scoped>\n",
       "    .dataframe tbody tr th:only-of-type {\n",
       "        vertical-align: middle;\n",
       "    }\n",
       "\n",
       "    .dataframe tbody tr th {\n",
       "        vertical-align: top;\n",
       "    }\n",
       "\n",
       "    .dataframe thead th {\n",
       "        text-align: right;\n",
       "    }\n",
       "</style>\n",
       "<table border=\"1\" class=\"dataframe\">\n",
       "  <thead>\n",
       "    <tr style=\"text-align: right;\">\n",
       "      <th></th>\n",
       "      <th>tweet</th>\n",
       "      <th>sentiment</th>\n",
       "      <th>word_count</th>\n",
       "      <th>char_count</th>\n",
       "      <th>avg_word</th>\n",
       "      <th>stopwords</th>\n",
       "      <th>hastags</th>\n",
       "      <th>numerics</th>\n",
       "      <th>upper</th>\n",
       "    </tr>\n",
       "  </thead>\n",
       "  <tbody>\n",
       "    <tr>\n",
       "      <th>0</th>\n",
       "      <td>#sxswnui #apple defining language touch differ...</td>\n",
       "      <td>1</td>\n",
       "      <td>12</td>\n",
       "      <td>89</td>\n",
       "      <td>6.500000</td>\n",
       "      <td>2</td>\n",
       "      <td>3</td>\n",
       "      <td>0</td>\n",
       "      <td>0</td>\n",
       "    </tr>\n",
       "    <tr>\n",
       "      <th>1</th>\n",
       "      <td>learning ab doodles! doodles light, funny &amp;amp...</td>\n",
       "      <td>1</td>\n",
       "      <td>19</td>\n",
       "      <td>143</td>\n",
       "      <td>6.578947</td>\n",
       "      <td>4</td>\n",
       "      <td>2</td>\n",
       "      <td>0</td>\n",
       "      <td>0</td>\n",
       "    </tr>\n",
       "    <tr>\n",
       "      <th>2</th>\n",
       "      <td>one in-your-face ex. stealing show yrs &amp;quot;a...</td>\n",
       "      <td>2</td>\n",
       "      <td>23</td>\n",
       "      <td>132</td>\n",
       "      <td>5.000000</td>\n",
       "      <td>7</td>\n",
       "      <td>1</td>\n",
       "      <td>0</td>\n",
       "      <td>2</td>\n",
       "    </tr>\n",
       "    <tr>\n",
       "      <th>3</th>\n",
       "      <td>app would b pretty awesome crash every 10mins ...</td>\n",
       "      <td>0</td>\n",
       "      <td>19</td>\n",
       "      <td>125</td>\n",
       "      <td>5.631579</td>\n",
       "      <td>4</td>\n",
       "      <td>3</td>\n",
       "      <td>0</td>\n",
       "      <td>1</td>\n",
       "    </tr>\n",
       "    <tr>\n",
       "      <th>4</th>\n",
       "      <td>line outside austin waiting</td>\n",
       "      <td>1</td>\n",
       "      <td>15</td>\n",
       "      <td>77</td>\n",
       "      <td>4.500000</td>\n",
       "      <td>4</td>\n",
       "      <td>1</td>\n",
       "      <td>0</td>\n",
       "      <td>1</td>\n",
       "    </tr>\n",
       "  </tbody>\n",
       "</table>\n",
       "</div>"
      ],
      "text/plain": [
       "                                               tweet  sentiment  word_count  \\\n",
       "0  #sxswnui #apple defining language touch differ...          1          12   \n",
       "1  learning ab doodles! doodles light, funny &amp...          1          19   \n",
       "2  one in-your-face ex. stealing show yrs &quot;a...          2          23   \n",
       "3  app would b pretty awesome crash every 10mins ...          0          19   \n",
       "4                        line outside austin waiting          1          15   \n",
       "\n",
       "   char_count  avg_word  stopwords  hastags  numerics  upper  \n",
       "0          89  6.500000          2        3         0      0  \n",
       "1         143  6.578947          4        2         0      0  \n",
       "2         132  5.000000          7        1         0      2  \n",
       "3         125  5.631579          4        3         0      1  \n",
       "4          77  4.500000          4        1         0      1  "
      ]
     },
     "execution_count": 93,
     "metadata": {},
     "output_type": "execute_result"
    }
   ],
   "source": [
    "df_copy.head()"
   ]
  },
  {
   "cell_type": "code",
   "execution_count": 94,
   "id": "6b1323de",
   "metadata": {},
   "outputs": [
    {
     "data": {
      "text/plain": [
       "0          (0.15, 0.65)\n",
       "1    (0.38125, 0.89375)\n",
       "2            (0.0, 0.0)\n",
       "3          (0.625, 1.0)\n",
       "4           (0.0, 0.05)\n",
       "Name: tweet, dtype: object"
      ]
     },
     "execution_count": 94,
     "metadata": {},
     "output_type": "execute_result"
    }
   ],
   "source": [
    "df_copy['tweet'][:5].apply(lambda x: TextBlob(x).sentiment)"
   ]
  },
  {
   "cell_type": "code",
   "execution_count": 95,
   "id": "d3cdafa2",
   "metadata": {},
   "outputs": [
    {
     "data": {
      "text/html": [
       "<div>\n",
       "<style scoped>\n",
       "    .dataframe tbody tr th:only-of-type {\n",
       "        vertical-align: middle;\n",
       "    }\n",
       "\n",
       "    .dataframe tbody tr th {\n",
       "        vertical-align: top;\n",
       "    }\n",
       "\n",
       "    .dataframe thead th {\n",
       "        text-align: right;\n",
       "    }\n",
       "</style>\n",
       "<table border=\"1\" class=\"dataframe\">\n",
       "  <thead>\n",
       "    <tr style=\"text-align: right;\">\n",
       "      <th></th>\n",
       "      <th>tweet</th>\n",
       "      <th>sentiment</th>\n",
       "      <th>word_count</th>\n",
       "      <th>char_count</th>\n",
       "      <th>avg_word</th>\n",
       "      <th>stopwords</th>\n",
       "      <th>hastags</th>\n",
       "      <th>numerics</th>\n",
       "      <th>upper</th>\n",
       "    </tr>\n",
       "  </thead>\n",
       "  <tbody>\n",
       "    <tr>\n",
       "      <th>0</th>\n",
       "      <td>#sxswnui #apple defining language touch differ...</td>\n",
       "      <td>1</td>\n",
       "      <td>12</td>\n",
       "      <td>89</td>\n",
       "      <td>6.500000</td>\n",
       "      <td>2</td>\n",
       "      <td>3</td>\n",
       "      <td>0</td>\n",
       "      <td>0</td>\n",
       "    </tr>\n",
       "    <tr>\n",
       "      <th>1</th>\n",
       "      <td>learning ab doodles! doodles light, funny &amp;amp...</td>\n",
       "      <td>1</td>\n",
       "      <td>19</td>\n",
       "      <td>143</td>\n",
       "      <td>6.578947</td>\n",
       "      <td>4</td>\n",
       "      <td>2</td>\n",
       "      <td>0</td>\n",
       "      <td>0</td>\n",
       "    </tr>\n",
       "    <tr>\n",
       "      <th>2</th>\n",
       "      <td>one in-your-face ex. stealing show yrs &amp;quot;a...</td>\n",
       "      <td>2</td>\n",
       "      <td>23</td>\n",
       "      <td>132</td>\n",
       "      <td>5.000000</td>\n",
       "      <td>7</td>\n",
       "      <td>1</td>\n",
       "      <td>0</td>\n",
       "      <td>2</td>\n",
       "    </tr>\n",
       "    <tr>\n",
       "      <th>3</th>\n",
       "      <td>app would b pretty awesome crash every 10mins ...</td>\n",
       "      <td>0</td>\n",
       "      <td>19</td>\n",
       "      <td>125</td>\n",
       "      <td>5.631579</td>\n",
       "      <td>4</td>\n",
       "      <td>3</td>\n",
       "      <td>0</td>\n",
       "      <td>1</td>\n",
       "    </tr>\n",
       "    <tr>\n",
       "      <th>4</th>\n",
       "      <td>line outside austin waiting</td>\n",
       "      <td>1</td>\n",
       "      <td>15</td>\n",
       "      <td>77</td>\n",
       "      <td>4.500000</td>\n",
       "      <td>4</td>\n",
       "      <td>1</td>\n",
       "      <td>0</td>\n",
       "      <td>1</td>\n",
       "    </tr>\n",
       "  </tbody>\n",
       "</table>\n",
       "</div>"
      ],
      "text/plain": [
       "                                               tweet  sentiment  word_count  \\\n",
       "0  #sxswnui #apple defining language touch differ...          1          12   \n",
       "1  learning ab doodles! doodles light, funny &amp...          1          19   \n",
       "2  one in-your-face ex. stealing show yrs &quot;a...          2          23   \n",
       "3  app would b pretty awesome crash every 10mins ...          0          19   \n",
       "4                        line outside austin waiting          1          15   \n",
       "\n",
       "   char_count  avg_word  stopwords  hastags  numerics  upper  \n",
       "0          89  6.500000          2        3         0      0  \n",
       "1         143  6.578947          4        2         0      0  \n",
       "2         132  5.000000          7        1         0      2  \n",
       "3         125  5.631579          4        3         0      1  \n",
       "4          77  4.500000          4        1         0      1  "
      ]
     },
     "execution_count": 95,
     "metadata": {},
     "output_type": "execute_result"
    }
   ],
   "source": [
    "df.head()"
   ]
  },
  {
   "cell_type": "code",
   "execution_count": 96,
   "id": "9b5e8cf1",
   "metadata": {},
   "outputs": [
    {
     "data": {
      "text/html": [
       "<div>\n",
       "<style scoped>\n",
       "    .dataframe tbody tr th:only-of-type {\n",
       "        vertical-align: middle;\n",
       "    }\n",
       "\n",
       "    .dataframe tbody tr th {\n",
       "        vertical-align: top;\n",
       "    }\n",
       "\n",
       "    .dataframe thead th {\n",
       "        text-align: right;\n",
       "    }\n",
       "</style>\n",
       "<table border=\"1\" class=\"dataframe\">\n",
       "  <thead>\n",
       "    <tr style=\"text-align: right;\">\n",
       "      <th></th>\n",
       "      <th>tweet</th>\n",
       "      <th>sentiment</th>\n",
       "    </tr>\n",
       "  </thead>\n",
       "  <tbody>\n",
       "    <tr>\n",
       "      <th>0</th>\n",
       "      <td>#sxswnui #apple defining language touch differ...</td>\n",
       "      <td>0.15000</td>\n",
       "    </tr>\n",
       "    <tr>\n",
       "      <th>1</th>\n",
       "      <td>learning ab doodles! doodles light, funny &amp;amp...</td>\n",
       "      <td>0.38125</td>\n",
       "    </tr>\n",
       "    <tr>\n",
       "      <th>2</th>\n",
       "      <td>one in-your-face ex. stealing show yrs &amp;quot;a...</td>\n",
       "      <td>0.00000</td>\n",
       "    </tr>\n",
       "    <tr>\n",
       "      <th>3</th>\n",
       "      <td>app would b pretty awesome crash every 10mins ...</td>\n",
       "      <td>0.62500</td>\n",
       "    </tr>\n",
       "    <tr>\n",
       "      <th>4</th>\n",
       "      <td>line outside austin waiting</td>\n",
       "      <td>0.00000</td>\n",
       "    </tr>\n",
       "  </tbody>\n",
       "</table>\n",
       "</div>"
      ],
      "text/plain": [
       "                                               tweet  sentiment\n",
       "0  #sxswnui #apple defining language touch differ...    0.15000\n",
       "1  learning ab doodles! doodles light, funny &amp...    0.38125\n",
       "2  one in-your-face ex. stealing show yrs &quot;a...    0.00000\n",
       "3  app would b pretty awesome crash every 10mins ...    0.62500\n",
       "4                        line outside austin waiting    0.00000"
      ]
     },
     "execution_count": 96,
     "metadata": {},
     "output_type": "execute_result"
    }
   ],
   "source": [
    "df_copy['sentiment'] = df['tweet'].apply(lambda x: TextBlob(x).sentiment[0] )\n",
    "df_copy[['tweet','sentiment']].head()"
   ]
  },
  {
   "cell_type": "code",
   "execution_count": 97,
   "id": "80d4dd85",
   "metadata": {},
   "outputs": [
    {
     "data": {
      "text/plain": [
       "sentiment\n",
       " 0.000000    3336\n",
       " 0.500000     313\n",
       " 0.250000     176\n",
       " 1.000000     172\n",
       " 0.200000     161\n",
       "             ... \n",
       "-0.494141       1\n",
       " 0.500000       1\n",
       " 0.242857       1\n",
       " 0.242857       1\n",
       " 0.180208       1\n",
       "Name: count, Length: 569, dtype: int64"
      ]
     },
     "execution_count": 97,
     "metadata": {},
     "output_type": "execute_result"
    }
   ],
   "source": [
    "df_copy.sentiment.value_counts()"
   ]
  },
  {
   "cell_type": "code",
   "execution_count": 98,
   "id": "c32c363f",
   "metadata": {},
   "outputs": [
    {
     "data": {
      "text/plain": [
       "0       0.15000\n",
       "1       0.38125\n",
       "2       0.00000\n",
       "3       0.62500\n",
       "4       0.00000\n",
       "         ...   \n",
       "7269    0.06250\n",
       "7270    0.00000\n",
       "7271   -0.02500\n",
       "7272    0.32500\n",
       "7273    0.00000\n",
       "Name: sentiment, Length: 7273, dtype: float64"
      ]
     },
     "execution_count": 98,
     "metadata": {},
     "output_type": "execute_result"
    }
   ],
   "source": [
    "df_copy['sentiment']"
   ]
  },
  {
   "cell_type": "code",
   "execution_count": 99,
   "id": "d1849055",
   "metadata": {},
   "outputs": [],
   "source": [
    "#TESTING"
   ]
  },
  {
   "cell_type": "code",
   "execution_count": 100,
   "id": "60af879e",
   "metadata": {},
   "outputs": [],
   "source": [
    "from sklearn.metrics import classification_report\n",
    "y_true = df['sentiment']\n",
    "y_pred = df_copy['sentiment']\n",
    "#0: Negative, 1: Neutral, 2: Positive, 3: Can't Tell\n",
    "target_names = ['0', '1', '2','3']\n",
    "# print(classification_report(y_true, y_pred, target_names=target_names)"
   ]
  },
  {
   "cell_type": "code",
   "execution_count": 101,
   "id": "b2a05ac5",
   "metadata": {},
   "outputs": [
    {
     "name": "stdout",
     "output_type": "stream",
     "text": [
      "<class 'pandas.core.frame.DataFrame'>\n",
      "Index: 7273 entries, 0 to 7273\n",
      "Data columns (total 9 columns):\n",
      " #   Column      Non-Null Count  Dtype  \n",
      "---  ------      --------------  -----  \n",
      " 0   tweet       7273 non-null   object \n",
      " 1   sentiment   7273 non-null   float64\n",
      " 2   word_count  7273 non-null   int64  \n",
      " 3   char_count  7273 non-null   int64  \n",
      " 4   avg_word    7273 non-null   float64\n",
      " 5   stopwords   7273 non-null   int64  \n",
      " 6   hastags     7273 non-null   int64  \n",
      " 7   numerics    7273 non-null   int64  \n",
      " 8   upper       7273 non-null   int64  \n",
      "dtypes: float64(2), int64(6), object(1)\n",
      "memory usage: 826.2+ KB\n"
     ]
    }
   ],
   "source": [
    "df_copy.info()"
   ]
  },
  {
   "cell_type": "code",
   "execution_count": 102,
   "id": "366b4938",
   "metadata": {},
   "outputs": [
    {
     "data": {
      "text/plain": [
       "0     0.15000\n",
       "1     0.38125\n",
       "2     0.00000\n",
       "3     0.62500\n",
       "4     0.00000\n",
       "5     0.00000\n",
       "6     0.00000\n",
       "7     0.00000\n",
       "8     0.40000\n",
       "9     0.00000\n",
       "10    0.00000\n",
       "11    0.00000\n",
       "12    0.00000\n",
       "13    0.00000\n",
       "14    0.00000\n",
       "15    0.00000\n",
       "16    0.45000\n",
       "17    0.50000\n",
       "18    0.00000\n",
       "19    0.00000\n",
       "Name: sentiment, dtype: float64"
      ]
     },
     "execution_count": 102,
     "metadata": {},
     "output_type": "execute_result"
    }
   ],
   "source": [
    "y_true.head(20)"
   ]
  },
  {
   "cell_type": "code",
   "execution_count": 103,
   "id": "385a2ecf",
   "metadata": {},
   "outputs": [],
   "source": [
    "y_pred = y_pred.abs()"
   ]
  },
  {
   "cell_type": "code",
   "execution_count": 104,
   "id": "d8a14b24",
   "metadata": {},
   "outputs": [],
   "source": [
    "y_pred = y_pred.round(decimals=0)"
   ]
  },
  {
   "cell_type": "code",
   "execution_count": 105,
   "id": "fa21b7cc",
   "metadata": {},
   "outputs": [
    {
     "data": {
      "text/plain": [
       "0       0.0\n",
       "1       0.0\n",
       "2       0.0\n",
       "3       1.0\n",
       "4       0.0\n",
       "       ... \n",
       "7269    0.0\n",
       "7270    0.0\n",
       "7271    0.0\n",
       "7272    0.0\n",
       "7273    0.0\n",
       "Name: sentiment, Length: 7273, dtype: float64"
      ]
     },
     "execution_count": 105,
     "metadata": {},
     "output_type": "execute_result"
    }
   ],
   "source": [
    "y_pred"
   ]
  },
  {
   "cell_type": "code",
   "execution_count": 107,
   "id": "cf32fbbf",
   "metadata": {},
   "outputs": [],
   "source": [
    "from sklearn.metrics import classification_report\n"
   ]
  },
  {
   "cell_type": "code",
   "execution_count": 108,
   "id": "ba4207e4",
   "metadata": {},
   "outputs": [
    {
     "name": "stdout",
     "output_type": "stream",
     "text": [
      "Data type of y_true: <class 'pandas.core.series.Series'>\n",
      "Data type of y_pred: <class 'pandas.core.series.Series'>\n",
      "Unique classes in y_true: {0.0, 0.625, 0.5, 0.25, -0.25, -0.078125, 0.5625, 1.0, 0.53125, -0.375, 0.375, 0.0625, 0.21875, 0.78125, 0.494140625, 0.75, -0.43333333333333324, 0.79296875, 0.125, 0.6103515625, 0.4375, 0.109375, 0.3125, -0.125, 0.15625, -0.5, 0.875, 0.11818181818181818, -0.24999999999999997, 0.1986111111111111, -0.23333333333333336, 0.20416666666666664, 0.016666666666666635, 0.009375000000000022, 0.011904761904761899, 0.011111111111111108, -0.004761904761904708, 0.011111111111111112, -0.07692307692307693, 0.04791666666666666, 0.26666666666666666, 0.2738095238095238, 5.551115123125783e-17, 0.37500000000000006, 0.03229166666666666, -0.13958333333333334, 0.20416666666666666, 0.016666666666666666, 0.14166666666666666, -0.4, 0.2875, 0.475, 0.46875, 0.703125, 0.744140625, 0.9765625, -0.40625, 0.03125, 0.09375, 0.1875, 0.390625, -0.0625, 0.32083333333333336, -0.2333333333333333, 0.21714285714285717, 0.273015873015873, 0.028571428571428564, 0.016666666666666705, -0.07999999999999997, -0.09722222222222222, -0.29285714285714287, 0.20714285714285713, 0.5380952380952381, 0.2785714285714286, 0.5111111111111112, 0.7500000000000001, -0.4374999999999999, 0.9765625000000001, 0.5166666666666667, 0.2857142857142857, 0.5333333333333333, 0.11145833333333333, 0.03333333333333333, 0.04895833333333333, -0.05454545454545454, -0.30000000000000004, 0.44999999999999996, 0.03333333333333335, 0.575, 0.5125, 0.621875, -0.02777777777777779, -0.022222222222222227, 0.16944444444444443, 0.23749999999999996, 0.15833333333333335, 0.20656565656565654, 0.13714285714285715, 0.033333333333333354, 0.2130681818181818, -0.20000000000000004, 0.36944444444444446, -0.20476190476190478, 0.048611111111111105, 0.04523809523809522, 0.3035714285714286, 0.4285714285714286, 0.37878787878787873, 0.2833333333333334, 0.4875, 0.04999999999999999, 0.175, 0.3, -0.45, -0.012500000000000011, -0.2, 0.425, 0.31111111111111106, 0.25952380952380955, 0.034374999999999996, 0.5428571428571429, 0.018750000000000003, 0.05, -0.012499999999999997, -0.075, 0.23392857142857143, 0.05000000000000001, -0.18333333333333338, 0.2523809523809524, 0.16916666666666666, -0.19444444444444445, -0.19999999999999998, 0.16818181818181818, 0.17500000000000002, 0.5499999999999999, 0.7999999999999999, -0.33928571428571425, 0.3222222222222222, 0.23958333333333331, 0.4583333333333333, -0.02037037037037039, 0.09444444444444444, -0.15555555555555556, 0.05952380952380952, 0.3666666666666667, 0.6166666666666667, 0.3041666666666667, 0.3777777777777778, 0.4000000000000001, -0.22499999999999992, 0.2634943181818182, 0.22443181818181818, -0.18181818181818182, 0.4464285714285714, 0.8, 0.55, -0.7, 0.30000000000000004, 0.675, 0.36250000000000004, 0.31666666666666665, -0.18333333333333335, 0.004166666666666652, 0.15357142857142858, -0.8749999999999998, 0.06666666666666667, 0.08229166666666667, 0.13392857142857142, -0.17857142857142858, -0.047222222222222235, 0.6499999999999999, 0.45555555555555555, 0.21666666666666667, 0.09166666666666667, 0.2791666666666667, 0.4666666666666667, 0.32857142857142857, 0.44642857142857145, 0.07777777777777778, 0.3444444444444444, 0.3166666666666667, 0.3333333333333333, 0.2708333333333333, -0.2916666666666667, -0.4000000000000001, 0.20833333333333331, 0.12500000000000006, 0.41818181818181815, 0.5333333333333334, 0.18, 0.06380208333333333, -0.02604166666666667, 0.07619047619047621, 0.08333333333333333, 0.03645833333333333, 0.020833333333333332, -0.007407407407407418, -0.33809523809523806, -0.041666666666666664, -0.16666666666666666, 0.08333333333333334, 0.24285714285714288, 0.20833333333333334, 0.14583333333333334, -0.04166666666666666, -0.07583333333333334, 0.06666666666666674, 0.22395833333333334, 0.30378787878787883, 0.09444444444444443, 0.08888888888888889, 0.5666666666666668, 0.4125, 0.85, -0.275, 0.38125, 0.03194444444444444, 0.22499999999999998, 0.6, 0.35, 0.09523809523809523, -0.3125, 0.40625, -0.625, -0.75, 0.9375, -0.1875, 0.1328125, 0.29296875, 0.34375, 0.59375, 0.44166666666666665, 0.25416666666666665, 0.06666666666666665, 0.5666666666666667, 0.09999999999999999, -0.025, 0.0375, 0.1, -0.15, 0.225, -0.024999999999999994, -0.11875, 0.2619047619047619, 0.06875, -0.03181818181818183, 0.17424242424242423, 0.23611111111111108, -0.15714285714285714, 0.10634920634920635, 0.10714285714285714, 0.10000000000000002, 0.35714285714285715, -0.27499999999999997, 0.47500000000000003, -0.3888888888888889, 0.1111111111111111, 0.35000000000000003, 0.23214285714285715, 0.3444444444444445, -0.4069010416666666, -0.25833333333333336, 0.04861111111111111, 0.08541666666666665, 0.11111111111111112, 0.6666666666666666, 0.38541666666666663, 0.41666666666666663, 0.5416666666666666, 0.36527777777777776, 0.32291666666666663, -0.32222222222222224, -0.061111111111111116, 0.18888888888888888, -0.04999999999999999, 0.41875, -0.425, 0.3875, 0.2625, 0.23125, 0.11666666666666667, 0.05312500000000006, -0.008333333333333331, -0.13333333333333333, 0.24166666666666667, 0.7333333333333334, 0.4833333333333334, 0.2333333333333334, 0.054166666666666675, -0.6999999999999998, 0.11904761904761905, 0.13636363636363635, 0.19285714285714284, 0.5083333333333333, 0.36190476190476195, 0.5249999999999999, 0.12857142857142856, 0.3615384615384616, -0.3999999999999999, 0.6000000000000001, 0.5375000000000001, -0.1166666666666667, -0.3666666666666667, 0.33999999999999997, 0.27749999999999997, -0.19285714285714284, 0.30714285714285716, 0.18583333333333335, 0.3276785714285715, 0.14895833333333333, 0.7666666666666666, 0.13333333333333333, 0.14114583333333333, 0.008333333333333333, 0.3916666666666666, 0.17045454545454544, 0.13809523809523808, 0.02395833333333333, 0.13888888888888887, 0.546875, 0.484375, -0.325, 0.3625, 0.33125, 0.39375, -0.07500000000000001, 0.5859375, 0.640625, 0.11249999999999999, 0.2375, -0.2625, -0.41666666666666663, 0.5833333333333334, -0.6666666666666666, -0.11666666666666665, 0.03666666666666667, 0.7750000000000001, 0.3369047619047619, -0.38839285714285715, 0.25833333333333336, 0.39999999999999997, 0.27499999999999997, -0.1111111111111111, 0.48000000000000004, 0.14285714285714285, 0.39285714285714285, 0.26785714285714285, -0.10000000000000003, -0.0928571428571429, -0.10000000000000002, -0.09285714285714286, 0.15, -0.1, 0.14444444444444446, -0.17678571428571424, -0.1625, 0.024999999999999994, -0.04305555555555554, 0.056249999999999994, 0.025, -0.053125, -0.6333333333333334, -0.09999999999999999, 0.05333333333333334, -0.5666666666666667, 0.30833333333333335, -0.06666666666666665, -0.004166666666666652, 0.24375000000000002, -0.725, 0.36875, 0.4, -0.6, 0.01428571428571429, 0.15000000000000002, 0.9, 0.65, -0.475, -0.9999999999999999, 0.5000000000000001, -0.08888888888888889, -0.051767676767676775, -0.14583333333333334, 0.16666666666666666, 0.1722222222222222, 0.10416666666666666, -0.08333333333333334, -0.21071428571428572, 0.5071428571428571, 0.041666666666666664, -0.020833333333333332, -0.15000000000000002, -0.08333333333333333, -0.07777777777777779, 0.04166666666666667, 0.6214285714285714, 0.10416666666666667, 0.33111111111111113, 0.68359375, 0.48828125, 0.1953125, 0.421875, 0.734375, -0.28125, -0.4583333333333333, -0.20833333333333331, 0.16666666666666669, 0.17857142857142855, 0.4166666666666667, 0.4333333333333333, 0.5111111111111111, 0.1642857142857143, 0.17142857142857143, 0.3770833333333333, 0.15833333333333333, 0.033333333333333326, 0.2833333333333333, -0.0666666666666667, 0.2681818181818182, 0.05357142857142857, 0.17857142857142858, 0.22727272727272727, 0.17777777777777778, -0.07142857142857142, 0.18333333333333332, 0.20982142857142858, 0.1666666666666667, -0.06666666666666668, 0.3571428571428571, -0.06666666666666667, 0.058333333333333334, 0.019166666666666665, -0.3633333333333334, 0.6500000000000001, 0.1880952380952381, 0.43333333333333335, 0.18333333333333335, 0.5583333333333333, 0.7, 0.6375, -0.55, 0.32499999999999996, -0.8, 0.6333333333333333, 0.1333333333333333, 0.3833333333333333, -0.3333333333333333, -0.2708333333333333, -0.05555555555555556, -0.29999999999999993, -0.5499999999999999, -0.7999999999999999, 0.5437500000000001, 0.07499999999999998, -0.018750000000000017, 0.19999999999999998, -0.05555555555555555, 0.012499999999999983, 0.13194444444444445, 0.19444444444444445, 0.19523809523809524, 0.13, -0.19444444444444448, -0.05, 0.075, 0.012499999999999997, 0.0125, 0.15047619047619049, 0.45, 0.2, -0.3, -0.10138888888888892, 0.07500000000000001, 0.4595238095238095, -0.175, 0.325, 0.48125, 0.3214285714285714, 0.2276785714285714, 0.6232142857142857, 0.16, -0.033333333333333354, 0.20000000000000004, 0.21666666666666665, 0.21428571428571427, 0.5055555555555555, 0.016666666666666663, -0.35833333333333334, 0.2111111111111111, -0.17499999999999996, -0.06166666666666667, 0.48750000000000004, -0.19999999999999996, 0.6125, 0.23750000000000004, -0.03333333333333334, -0.03333333333333333, -0.2833333333333333, -0.033333333333333326, -0.5000000000000001, 0.6083333333333333, 0.5750000000000001, 0.47857142857142854, 0.2222222222222222, 0.7684659090909091, 0.22142857142857142, 0.7000000000000001, 0.22222222222222224, 0.2261904761904762, 0.2333333333333333, 0.8125, 0.6875, 0.171875, -0.494140625, -0.9375, 0.8814697265625, 0.28125, -0.4375, -0.03125, 0.5208333333333333, 0.08, 0.37777777777777777, 0.10208333333333333, 0.18020833333333333, -0.4861111111111111, -0.35, 0.275, 0.08750000000000002, 0.525, -0.85, 0.321875, 0.5875, -0.09999999999999998, 0.17222222222222228, 0.5681818181818181, 0.35909090909090907, 0.1512878787878788, 0.23333333333333334, 0.15909090909090912, 0.14250000000000002, 0.10833333333333334, 0.4714285714285715, -0.10714285714285715, 0.08035714285714285, -0.0055555555555555705, -0.12500000000000003, 0.24444444444444444, 0.24285714285714285, 0.24999999999999997, 0.06249999999999997, -0.004761904761904773, 0.2380952380952381, 0.2275, -0.525, -0.65, 0.2953125, -0.025000000000000022, 0.31875, 0.09999999999999998, -0.9, 0.2727272727272727, 0.3352272727272727, 0.1477272727272727, 0.3491666666666667, 0.7458333333333332, 0.25757575757575757, 0.4666666666666666, -0.1416666666666667, -1.0}\n",
      "Unique classes in y_pred: {0.0, 1.0}\n"
     ]
    }
   ],
   "source": [
    "# Assuming y_true and y_pred are numpy arrays or lists representing the true and predicted labels\n",
    "print(\"Data type of y_true:\", type(y_true))\n",
    "print(\"Data type of y_pred:\", type(y_pred))\n",
    "\n",
    "# Check the unique values in y_true and y_pred\n",
    "print(\"Unique classes in y_true:\", set(y_true))\n",
    "print(\"Unique classes in y_pred:\", set(y_pred))\n"
   ]
  },
  {
   "cell_type": "code",
   "execution_count": 110,
   "id": "3f166f7a",
   "metadata": {},
   "outputs": [],
   "source": [
    "#MODEL II - "
   ]
  },
  {
   "cell_type": "code",
   "execution_count": 111,
   "id": "e6aa12ae",
   "metadata": {},
   "outputs": [
    {
     "data": {
      "text/html": [
       "<div>\n",
       "<style scoped>\n",
       "    .dataframe tbody tr th:only-of-type {\n",
       "        vertical-align: middle;\n",
       "    }\n",
       "\n",
       "    .dataframe tbody tr th {\n",
       "        vertical-align: top;\n",
       "    }\n",
       "\n",
       "    .dataframe thead th {\n",
       "        text-align: right;\n",
       "    }\n",
       "</style>\n",
       "<table border=\"1\" class=\"dataframe\">\n",
       "  <thead>\n",
       "    <tr style=\"text-align: right;\">\n",
       "      <th></th>\n",
       "      <th>tweet</th>\n",
       "      <th>sentiment</th>\n",
       "      <th>word_count</th>\n",
       "      <th>char_count</th>\n",
       "      <th>avg_word</th>\n",
       "      <th>stopwords</th>\n",
       "      <th>hastags</th>\n",
       "      <th>numerics</th>\n",
       "      <th>upper</th>\n",
       "    </tr>\n",
       "  </thead>\n",
       "  <tbody>\n",
       "    <tr>\n",
       "      <th>0</th>\n",
       "      <td>#sxswnui #apple defining language touch differ...</td>\n",
       "      <td>0.15000</td>\n",
       "      <td>12</td>\n",
       "      <td>89</td>\n",
       "      <td>6.500000</td>\n",
       "      <td>2</td>\n",
       "      <td>3</td>\n",
       "      <td>0</td>\n",
       "      <td>0</td>\n",
       "    </tr>\n",
       "    <tr>\n",
       "      <th>1</th>\n",
       "      <td>learning ab doodles! doodles light, funny &amp;amp...</td>\n",
       "      <td>0.38125</td>\n",
       "      <td>19</td>\n",
       "      <td>143</td>\n",
       "      <td>6.578947</td>\n",
       "      <td>4</td>\n",
       "      <td>2</td>\n",
       "      <td>0</td>\n",
       "      <td>0</td>\n",
       "    </tr>\n",
       "    <tr>\n",
       "      <th>2</th>\n",
       "      <td>one in-your-face ex. stealing show yrs &amp;quot;a...</td>\n",
       "      <td>0.00000</td>\n",
       "      <td>23</td>\n",
       "      <td>132</td>\n",
       "      <td>5.000000</td>\n",
       "      <td>7</td>\n",
       "      <td>1</td>\n",
       "      <td>0</td>\n",
       "      <td>2</td>\n",
       "    </tr>\n",
       "    <tr>\n",
       "      <th>3</th>\n",
       "      <td>app would b pretty awesome crash every 10mins ...</td>\n",
       "      <td>0.62500</td>\n",
       "      <td>19</td>\n",
       "      <td>125</td>\n",
       "      <td>5.631579</td>\n",
       "      <td>4</td>\n",
       "      <td>3</td>\n",
       "      <td>0</td>\n",
       "      <td>1</td>\n",
       "    </tr>\n",
       "    <tr>\n",
       "      <th>4</th>\n",
       "      <td>line outside austin waiting</td>\n",
       "      <td>0.00000</td>\n",
       "      <td>15</td>\n",
       "      <td>77</td>\n",
       "      <td>4.500000</td>\n",
       "      <td>4</td>\n",
       "      <td>1</td>\n",
       "      <td>0</td>\n",
       "      <td>1</td>\n",
       "    </tr>\n",
       "  </tbody>\n",
       "</table>\n",
       "</div>"
      ],
      "text/plain": [
       "                                               tweet  sentiment  word_count  \\\n",
       "0  #sxswnui #apple defining language touch differ...    0.15000          12   \n",
       "1  learning ab doodles! doodles light, funny &amp...    0.38125          19   \n",
       "2  one in-your-face ex. stealing show yrs &quot;a...    0.00000          23   \n",
       "3  app would b pretty awesome crash every 10mins ...    0.62500          19   \n",
       "4                        line outside austin waiting    0.00000          15   \n",
       "\n",
       "   char_count  avg_word  stopwords  hastags  numerics  upper  \n",
       "0          89  6.500000          2        3         0      0  \n",
       "1         143  6.578947          4        2         0      0  \n",
       "2         132  5.000000          7        1         0      2  \n",
       "3         125  5.631579          4        3         0      1  \n",
       "4          77  4.500000          4        1         0      1  "
      ]
     },
     "execution_count": 111,
     "metadata": {},
     "output_type": "execute_result"
    }
   ],
   "source": [
    "df_copy.head()"
   ]
  },
  {
   "cell_type": "code",
   "execution_count": 112,
   "id": "83550f24",
   "metadata": {},
   "outputs": [],
   "source": [
    "from sklearn.feature_extraction.text import TfidfVectorizer\n",
    "# Create feature vectors\n",
    "vectorizer = TfidfVectorizer(\n",
    "                             min_df = 5,\n",
    "                             max_df = 0.8,\n",
    "                             sublinear_tf = True,\n",
    "                             use_idf = True\n",
    "                            )\n",
    "train_vectors = vectorizer.fit_transform(df_copy['tweet'])\n",
    "test_vectors = vectorizer.transform(df_copy['tweet'])"
   ]
  },
  {
   "cell_type": "code",
   "execution_count": 113,
   "id": "7709bfad",
   "metadata": {},
   "outputs": [
    {
     "data": {
      "text/plain": [
       "<7273x2061 sparse matrix of type '<class 'numpy.float64'>'\n",
       "\twith 54552 stored elements in Compressed Sparse Row format>"
      ]
     },
     "execution_count": 113,
     "metadata": {},
     "output_type": "execute_result"
    }
   ],
   "source": [
    "train_vectors"
   ]
  },
  {
   "cell_type": "code",
   "execution_count": 114,
   "id": "8efcca84",
   "metadata": {},
   "outputs": [
    {
     "data": {
      "text/html": [
       "<div>\n",
       "<style scoped>\n",
       "    .dataframe tbody tr th:only-of-type {\n",
       "        vertical-align: middle;\n",
       "    }\n",
       "\n",
       "    .dataframe tbody tr th {\n",
       "        vertical-align: top;\n",
       "    }\n",
       "\n",
       "    .dataframe thead th {\n",
       "        text-align: right;\n",
       "    }\n",
       "</style>\n",
       "<table border=\"1\" class=\"dataframe\">\n",
       "  <thead>\n",
       "    <tr style=\"text-align: right;\">\n",
       "      <th></th>\n",
       "      <th>tweet</th>\n",
       "      <th>sentiment</th>\n",
       "      <th>word_count</th>\n",
       "      <th>char_count</th>\n",
       "      <th>avg_word</th>\n",
       "      <th>stopwords</th>\n",
       "      <th>hastags</th>\n",
       "      <th>numerics</th>\n",
       "      <th>upper</th>\n",
       "    </tr>\n",
       "  </thead>\n",
       "  <tbody>\n",
       "    <tr>\n",
       "      <th>0</th>\n",
       "      <td>#sxswnui #apple defining language touch differ...</td>\n",
       "      <td>0.15000</td>\n",
       "      <td>12</td>\n",
       "      <td>89</td>\n",
       "      <td>6.500000</td>\n",
       "      <td>2</td>\n",
       "      <td>3</td>\n",
       "      <td>0</td>\n",
       "      <td>0</td>\n",
       "    </tr>\n",
       "    <tr>\n",
       "      <th>1</th>\n",
       "      <td>learning ab doodles! doodles light, funny &amp;amp...</td>\n",
       "      <td>0.38125</td>\n",
       "      <td>19</td>\n",
       "      <td>143</td>\n",
       "      <td>6.578947</td>\n",
       "      <td>4</td>\n",
       "      <td>2</td>\n",
       "      <td>0</td>\n",
       "      <td>0</td>\n",
       "    </tr>\n",
       "    <tr>\n",
       "      <th>2</th>\n",
       "      <td>one in-your-face ex. stealing show yrs &amp;quot;a...</td>\n",
       "      <td>0.00000</td>\n",
       "      <td>23</td>\n",
       "      <td>132</td>\n",
       "      <td>5.000000</td>\n",
       "      <td>7</td>\n",
       "      <td>1</td>\n",
       "      <td>0</td>\n",
       "      <td>2</td>\n",
       "    </tr>\n",
       "    <tr>\n",
       "      <th>3</th>\n",
       "      <td>app would b pretty awesome crash every 10mins ...</td>\n",
       "      <td>0.62500</td>\n",
       "      <td>19</td>\n",
       "      <td>125</td>\n",
       "      <td>5.631579</td>\n",
       "      <td>4</td>\n",
       "      <td>3</td>\n",
       "      <td>0</td>\n",
       "      <td>1</td>\n",
       "    </tr>\n",
       "    <tr>\n",
       "      <th>4</th>\n",
       "      <td>line outside austin waiting</td>\n",
       "      <td>0.00000</td>\n",
       "      <td>15</td>\n",
       "      <td>77</td>\n",
       "      <td>4.500000</td>\n",
       "      <td>4</td>\n",
       "      <td>1</td>\n",
       "      <td>0</td>\n",
       "      <td>1</td>\n",
       "    </tr>\n",
       "    <tr>\n",
       "      <th>...</th>\n",
       "      <td>...</td>\n",
       "      <td>...</td>\n",
       "      <td>...</td>\n",
       "      <td>...</td>\n",
       "      <td>...</td>\n",
       "      <td>...</td>\n",
       "      <td>...</td>\n",
       "      <td>...</td>\n",
       "      <td>...</td>\n",
       "    </tr>\n",
       "    <tr>\n",
       "      <th>7269</th>\n",
       "      <td>plze tammi. i'm middle craziness everything so...</td>\n",
       "      <td>0.06250</td>\n",
       "      <td>16</td>\n",
       "      <td>93</td>\n",
       "      <td>5.200000</td>\n",
       "      <td>4</td>\n",
       "      <td>1</td>\n",
       "      <td>0</td>\n",
       "      <td>1</td>\n",
       "    </tr>\n",
       "    <tr>\n",
       "      <th>7270</th>\n",
       "      <td>÷¼ set? ÷_ ÷_ #edchat #musedchat #sxswi #ne...</td>\n",
       "      <td>0.00000</td>\n",
       "      <td>15</td>\n",
       "      <td>91</td>\n",
       "      <td>5.133333</td>\n",
       "      <td>2</td>\n",
       "      <td>5</td>\n",
       "      <td>0</td>\n",
       "      <td>1</td>\n",
       "    </tr>\n",
       "    <tr>\n",
       "      <th>7271</th>\n",
       "      <td>aha! found proof lactation room, excuse me, &amp;q...</td>\n",
       "      <td>-0.02500</td>\n",
       "      <td>22</td>\n",
       "      <td>140</td>\n",
       "      <td>5.409091</td>\n",
       "      <td>5</td>\n",
       "      <td>1</td>\n",
       "      <td>0</td>\n",
       "      <td>2</td>\n",
       "    </tr>\n",
       "    <tr>\n",
       "      <th>7272</th>\n",
       "      <td>launched app #sxsw! get details + first editio...</td>\n",
       "      <td>0.32500</td>\n",
       "      <td>18</td>\n",
       "      <td>92</td>\n",
       "      <td>4.166667</td>\n",
       "      <td>6</td>\n",
       "      <td>1</td>\n",
       "      <td>0</td>\n",
       "      <td>2</td>\n",
       "    </tr>\n",
       "    <tr>\n",
       "      <th>7273</th>\n",
       "      <td>next fin serv battle vs apple, goog, mobile op...</td>\n",
       "      <td>0.00000</td>\n",
       "      <td>23</td>\n",
       "      <td>137</td>\n",
       "      <td>5.000000</td>\n",
       "      <td>4</td>\n",
       "      <td>2</td>\n",
       "      <td>0</td>\n",
       "      <td>2</td>\n",
       "    </tr>\n",
       "  </tbody>\n",
       "</table>\n",
       "<p>7273 rows × 9 columns</p>\n",
       "</div>"
      ],
      "text/plain": [
       "                                                  tweet  sentiment  \\\n",
       "0     #sxswnui #apple defining language touch differ...    0.15000   \n",
       "1     learning ab doodles! doodles light, funny &amp...    0.38125   \n",
       "2     one in-your-face ex. stealing show yrs &quot;a...    0.00000   \n",
       "3     app would b pretty awesome crash every 10mins ...    0.62500   \n",
       "4                           line outside austin waiting    0.00000   \n",
       "...                                                 ...        ...   \n",
       "7269  plze tammi. i'm middle craziness everything so...    0.06250   \n",
       "7270  ÷¼ set? ÷_ ÷_ #edchat #musedchat #sxswi #ne...    0.00000   \n",
       "7271  aha! found proof lactation room, excuse me, &q...   -0.02500   \n",
       "7272  launched app #sxsw! get details + first editio...    0.32500   \n",
       "7273  next fin serv battle vs apple, goog, mobile op...    0.00000   \n",
       "\n",
       "      word_count  char_count  avg_word  stopwords  hastags  numerics  upper  \n",
       "0             12          89  6.500000          2        3         0      0  \n",
       "1             19         143  6.578947          4        2         0      0  \n",
       "2             23         132  5.000000          7        1         0      2  \n",
       "3             19         125  5.631579          4        3         0      1  \n",
       "4             15          77  4.500000          4        1         0      1  \n",
       "...          ...         ...       ...        ...      ...       ...    ...  \n",
       "7269          16          93  5.200000          4        1         0      1  \n",
       "7270          15          91  5.133333          2        5         0      1  \n",
       "7271          22         140  5.409091          5        1         0      2  \n",
       "7272          18          92  4.166667          6        1         0      2  \n",
       "7273          23         137  5.000000          4        2         0      2  \n",
       "\n",
       "[7273 rows x 9 columns]"
      ]
     },
     "execution_count": 114,
     "metadata": {},
     "output_type": "execute_result"
    }
   ],
   "source": [
    "df_copy"
   ]
  },
  {
   "cell_type": "code",
   "execution_count": 116,
   "id": "d59ee245",
   "metadata": {},
   "outputs": [
    {
     "name": "stdout",
     "output_type": "stream",
     "text": [
      "Data type of labels: float64\n"
     ]
    }
   ],
   "source": [
    "print(\"Data type of labels:\", df_copy['sentiment'].dtype)\n"
   ]
  },
  {
   "cell_type": "code",
   "execution_count": 117,
   "id": "c5954716",
   "metadata": {},
   "outputs": [
    {
     "name": "stdout",
     "output_type": "stream",
     "text": [
      "Unique classes in labels: {0.0, 0.625, 0.5, 0.25, -0.25, -0.078125, 0.5625, 1.0, 0.53125, -0.375, 0.375, 0.0625, 0.21875, 0.78125, 0.494140625, 0.75, -0.43333333333333324, 0.79296875, 0.125, 0.6103515625, 0.4375, 0.109375, 0.3125, -0.125, 0.15625, -0.5, 0.875, 0.11818181818181818, -0.24999999999999997, 0.1986111111111111, -0.23333333333333336, 0.20416666666666664, 0.016666666666666635, 0.009375000000000022, 0.011904761904761899, 0.011111111111111108, -0.004761904761904708, 0.011111111111111112, -0.07692307692307693, 0.04791666666666666, 0.26666666666666666, 0.2738095238095238, 5.551115123125783e-17, 0.37500000000000006, 0.03229166666666666, -0.13958333333333334, 0.20416666666666666, 0.016666666666666666, 0.14166666666666666, -0.4, 0.2875, 0.475, 0.46875, 0.703125, 0.744140625, 0.9765625, -0.40625, 0.03125, 0.09375, 0.1875, 0.390625, -0.0625, 0.32083333333333336, -0.2333333333333333, 0.21714285714285717, 0.273015873015873, 0.028571428571428564, 0.016666666666666705, -0.07999999999999997, -0.09722222222222222, -0.29285714285714287, 0.20714285714285713, 0.5380952380952381, 0.2785714285714286, 0.5111111111111112, 0.7500000000000001, -0.4374999999999999, 0.9765625000000001, 0.5166666666666667, 0.2857142857142857, 0.5333333333333333, 0.11145833333333333, 0.03333333333333333, 0.04895833333333333, -0.05454545454545454, -0.30000000000000004, 0.44999999999999996, 0.03333333333333335, 0.575, 0.5125, 0.621875, -0.02777777777777779, -0.022222222222222227, 0.16944444444444443, 0.23749999999999996, 0.15833333333333335, 0.20656565656565654, 0.13714285714285715, 0.033333333333333354, 0.2130681818181818, -0.20000000000000004, 0.36944444444444446, -0.20476190476190478, 0.048611111111111105, 0.04523809523809522, 0.3035714285714286, 0.4285714285714286, 0.37878787878787873, 0.2833333333333334, 0.4875, 0.04999999999999999, 0.175, 0.3, -0.45, -0.012500000000000011, -0.2, 0.425, 0.31111111111111106, 0.25952380952380955, 0.034374999999999996, 0.5428571428571429, 0.018750000000000003, 0.05, -0.012499999999999997, -0.075, 0.23392857142857143, 0.05000000000000001, -0.18333333333333338, 0.2523809523809524, 0.16916666666666666, -0.19444444444444445, -0.19999999999999998, 0.16818181818181818, 0.17500000000000002, 0.5499999999999999, 0.7999999999999999, -0.33928571428571425, 0.3222222222222222, 0.23958333333333331, 0.4583333333333333, -0.02037037037037039, 0.09444444444444444, -0.15555555555555556, 0.05952380952380952, 0.3666666666666667, 0.6166666666666667, 0.3041666666666667, 0.3777777777777778, 0.4000000000000001, -0.22499999999999992, 0.2634943181818182, 0.22443181818181818, -0.18181818181818182, 0.4464285714285714, 0.8, 0.55, -0.7, 0.30000000000000004, 0.675, 0.36250000000000004, 0.31666666666666665, -0.18333333333333335, 0.004166666666666652, 0.15357142857142858, -0.8749999999999998, 0.06666666666666667, 0.08229166666666667, 0.13392857142857142, -0.17857142857142858, -0.047222222222222235, 0.6499999999999999, 0.45555555555555555, 0.21666666666666667, 0.09166666666666667, 0.2791666666666667, 0.4666666666666667, 0.32857142857142857, 0.44642857142857145, 0.07777777777777778, 0.3444444444444444, 0.3166666666666667, 0.3333333333333333, 0.2708333333333333, -0.2916666666666667, -0.4000000000000001, 0.20833333333333331, 0.12500000000000006, 0.41818181818181815, 0.5333333333333334, 0.18, 0.06380208333333333, -0.02604166666666667, 0.07619047619047621, 0.08333333333333333, 0.03645833333333333, 0.020833333333333332, -0.007407407407407418, -0.33809523809523806, -0.041666666666666664, -0.16666666666666666, 0.08333333333333334, 0.24285714285714288, 0.20833333333333334, 0.14583333333333334, -0.04166666666666666, -0.07583333333333334, 0.06666666666666674, 0.22395833333333334, 0.30378787878787883, 0.09444444444444443, 0.08888888888888889, 0.5666666666666668, 0.4125, 0.85, -0.275, 0.38125, 0.03194444444444444, 0.22499999999999998, 0.6, 0.35, 0.09523809523809523, -0.3125, 0.40625, -0.625, -0.75, 0.9375, -0.1875, 0.1328125, 0.29296875, 0.34375, 0.59375, 0.44166666666666665, 0.25416666666666665, 0.06666666666666665, 0.5666666666666667, 0.09999999999999999, -0.025, 0.0375, 0.1, -0.15, 0.225, -0.024999999999999994, -0.11875, 0.2619047619047619, 0.06875, -0.03181818181818183, 0.17424242424242423, 0.23611111111111108, -0.15714285714285714, 0.10634920634920635, 0.10714285714285714, 0.10000000000000002, 0.35714285714285715, -0.27499999999999997, 0.47500000000000003, -0.3888888888888889, 0.1111111111111111, 0.35000000000000003, 0.23214285714285715, 0.3444444444444445, -0.4069010416666666, -0.25833333333333336, 0.04861111111111111, 0.08541666666666665, 0.11111111111111112, 0.6666666666666666, 0.38541666666666663, 0.41666666666666663, 0.5416666666666666, 0.36527777777777776, 0.32291666666666663, -0.32222222222222224, -0.061111111111111116, 0.18888888888888888, -0.04999999999999999, 0.41875, -0.425, 0.3875, 0.2625, 0.23125, 0.11666666666666667, 0.05312500000000006, -0.008333333333333331, -0.13333333333333333, 0.24166666666666667, 0.7333333333333334, 0.4833333333333334, 0.2333333333333334, 0.054166666666666675, -0.6999999999999998, 0.11904761904761905, 0.13636363636363635, 0.19285714285714284, 0.5083333333333333, 0.36190476190476195, 0.5249999999999999, 0.12857142857142856, 0.3615384615384616, -0.3999999999999999, 0.6000000000000001, 0.5375000000000001, -0.1166666666666667, -0.3666666666666667, 0.33999999999999997, 0.27749999999999997, -0.19285714285714284, 0.30714285714285716, 0.18583333333333335, 0.3276785714285715, 0.14895833333333333, 0.7666666666666666, 0.13333333333333333, 0.14114583333333333, 0.008333333333333333, 0.3916666666666666, 0.17045454545454544, 0.13809523809523808, 0.02395833333333333, 0.13888888888888887, 0.546875, 0.484375, -0.325, 0.3625, 0.33125, 0.39375, -0.07500000000000001, 0.5859375, 0.640625, 0.11249999999999999, 0.2375, -0.2625, -0.41666666666666663, 0.5833333333333334, -0.6666666666666666, -0.11666666666666665, 0.03666666666666667, 0.7750000000000001, 0.3369047619047619, -0.38839285714285715, 0.25833333333333336, 0.39999999999999997, 0.27499999999999997, -0.1111111111111111, 0.48000000000000004, 0.14285714285714285, 0.39285714285714285, 0.26785714285714285, -0.10000000000000003, -0.0928571428571429, -0.10000000000000002, -0.09285714285714286, 0.15, -0.1, 0.14444444444444446, -0.17678571428571424, -0.1625, 0.024999999999999994, -0.04305555555555554, 0.056249999999999994, 0.025, -0.053125, -0.6333333333333334, -0.09999999999999999, 0.05333333333333334, -0.5666666666666667, 0.30833333333333335, -0.06666666666666665, -0.004166666666666652, 0.24375000000000002, -0.725, 0.36875, 0.4, -0.6, 0.01428571428571429, 0.15000000000000002, 0.9, 0.65, -0.475, -0.9999999999999999, 0.5000000000000001, -0.08888888888888889, -0.051767676767676775, -0.14583333333333334, 0.16666666666666666, 0.1722222222222222, 0.10416666666666666, -0.08333333333333334, -0.21071428571428572, 0.5071428571428571, 0.041666666666666664, -0.020833333333333332, -0.15000000000000002, -0.08333333333333333, -0.07777777777777779, 0.04166666666666667, 0.6214285714285714, 0.10416666666666667, 0.33111111111111113, 0.68359375, 0.48828125, 0.1953125, 0.421875, 0.734375, -0.28125, -0.4583333333333333, -0.20833333333333331, 0.16666666666666669, 0.17857142857142855, 0.4166666666666667, 0.4333333333333333, 0.5111111111111111, 0.1642857142857143, 0.17142857142857143, 0.3770833333333333, 0.15833333333333333, 0.033333333333333326, 0.2833333333333333, -0.0666666666666667, 0.2681818181818182, 0.05357142857142857, 0.17857142857142858, 0.22727272727272727, 0.17777777777777778, -0.07142857142857142, 0.18333333333333332, 0.20982142857142858, 0.1666666666666667, -0.06666666666666668, 0.3571428571428571, -0.06666666666666667, 0.058333333333333334, 0.019166666666666665, -0.3633333333333334, 0.6500000000000001, 0.1880952380952381, 0.43333333333333335, 0.18333333333333335, 0.5583333333333333, 0.7, 0.6375, -0.55, 0.32499999999999996, -0.8, 0.6333333333333333, 0.1333333333333333, 0.3833333333333333, -0.3333333333333333, -0.2708333333333333, -0.05555555555555556, -0.29999999999999993, -0.5499999999999999, -0.7999999999999999, 0.5437500000000001, 0.07499999999999998, -0.018750000000000017, 0.19999999999999998, -0.05555555555555555, 0.012499999999999983, 0.13194444444444445, 0.19444444444444445, 0.19523809523809524, 0.13, -0.19444444444444448, -0.05, 0.075, 0.012499999999999997, 0.0125, 0.15047619047619049, 0.45, 0.2, -0.3, -0.10138888888888892, 0.07500000000000001, 0.4595238095238095, -0.175, 0.325, 0.48125, 0.3214285714285714, 0.2276785714285714, 0.6232142857142857, 0.16, -0.033333333333333354, 0.20000000000000004, 0.21666666666666665, 0.21428571428571427, 0.5055555555555555, 0.016666666666666663, -0.35833333333333334, 0.2111111111111111, -0.17499999999999996, -0.06166666666666667, 0.48750000000000004, -0.19999999999999996, 0.6125, 0.23750000000000004, -0.03333333333333334, -0.03333333333333333, -0.2833333333333333, -0.033333333333333326, -0.5000000000000001, 0.6083333333333333, 0.5750000000000001, 0.47857142857142854, 0.2222222222222222, 0.7684659090909091, 0.22142857142857142, 0.7000000000000001, 0.22222222222222224, 0.2261904761904762, 0.2333333333333333, 0.8125, 0.6875, 0.171875, -0.494140625, -0.9375, 0.8814697265625, 0.28125, -0.4375, -0.03125, 0.5208333333333333, 0.08, 0.37777777777777777, 0.10208333333333333, 0.18020833333333333, -0.4861111111111111, -0.35, 0.275, 0.08750000000000002, 0.525, -0.85, 0.321875, 0.5875, -0.09999999999999998, 0.17222222222222228, 0.5681818181818181, 0.35909090909090907, 0.1512878787878788, 0.23333333333333334, 0.15909090909090912, 0.14250000000000002, 0.10833333333333334, 0.4714285714285715, -0.10714285714285715, 0.08035714285714285, -0.0055555555555555705, -0.12500000000000003, 0.24444444444444444, 0.24285714285714285, 0.24999999999999997, 0.06249999999999997, -0.004761904761904773, 0.2380952380952381, 0.2275, -0.525, -0.65, 0.2953125, -0.025000000000000022, 0.31875, 0.09999999999999998, -0.9, 0.2727272727272727, 0.3352272727272727, 0.1477272727272727, 0.3491666666666667, 0.7458333333333332, 0.25757575757575757, 0.4666666666666666, -0.1416666666666667, -1.0}\n"
     ]
    }
   ],
   "source": [
    "print(\"Unique classes in labels:\", set(df_copy['sentiment']))\n"
   ]
  },
  {
   "cell_type": "code",
   "execution_count": 118,
   "id": "13be1dee",
   "metadata": {},
   "outputs": [],
   "source": [
    "threshold = 0.5  # Example threshold for converting continuous to binary sentiment\n",
    "df_copy['sentiment'] = df_copy['sentiment'].apply(lambda x: 'positive' if x >= threshold else 'negative')\n"
   ]
  },
  {
   "cell_type": "code",
   "execution_count": 119,
   "id": "fef2b585",
   "metadata": {},
   "outputs": [],
   "source": [
    "classifier_linear = svm.SVC(kernel='linear')\n",
    "t0 = time.time()\n",
    "classifier_linear.fit(train_vectors, df_copy['sentiment'])\n",
    "t1 = time.time()\n",
    "y_pred = classifier_linear.predict(test_vectors)\n",
    "t2 = time.time()\n",
    "time_linear_train = t1 - t0\n",
    "time_linear_predict = t2 - t1\n"
   ]
  },
  {
   "cell_type": "code",
   "execution_count": 121,
   "id": "10186681",
   "metadata": {},
   "outputs": [],
   "source": [
    "import warnings\n",
    "warnings.filterwarnings('always')"
   ]
  },
  {
   "cell_type": "code",
   "execution_count": 122,
   "id": "b2e62e84",
   "metadata": {},
   "outputs": [
    {
     "name": "stdout",
     "output_type": "stream",
     "text": [
      "Training time: 1.669120s; Prediction time: 1.271537s\n"
     ]
    }
   ],
   "source": [
    "# result\n",
    "print(\"Training time: %fs; Prediction time: %fs\" % (time_linear_train, time_linear_predict))\n",
    "report = classification_report(df_copy['sentiment'], y_pred, output_dict=True)"
   ]
  },
  {
   "cell_type": "code",
   "execution_count": 123,
   "id": "198d2d45",
   "metadata": {},
   "outputs": [
    {
     "name": "stdout",
     "output_type": "stream",
     "text": [
      "F1 Score:  0.9538337969123398 \n",
      "Precision: 0.9551207991804848 \n",
      "Recall: 0.9560016499381273 \n",
      "Accuracy Score: 0.9560016499381273\n"
     ]
    }
   ],
   "source": [
    "#Since Classification Report could not be generated due ti MetricWarning we use sklearn.metrics to calculate performance measure of our model\n",
    "\n",
    "from sklearn.metrics import f1_score, precision_recall_fscore_support, accuracy_score\n",
    "precision,recall,_,_ = precision_recall_fscore_support(\n",
    "                                                        df_copy['sentiment'], \n",
    "                                                        y_pred,\n",
    "                                                        average='weighted',\n",
    "                                                        warn_for=tuple()\n",
    "                                                    )\n",
    "\n",
    "print(\"F1 Score: \",f1_score(df_copy['sentiment'], y_pred, average='weighted', labels=np.unique(y_pred)),\n",
    "      \"\\nPrecision:\",precision,\"\\nRecall:\",recall, \"\\nAccuracy Score:\", accuracy_score(df_copy['sentiment'], y_pred)\n",
    "\n",
    "     )"
   ]
  },
  {
   "cell_type": "code",
   "execution_count": 131,
   "id": "9a3c9d56",
   "metadata": {
    "scrolled": true
   },
   "outputs": [
    {
     "data": {
      "text/plain": [
       "sentiment\n",
       "negative    6272\n",
       "positive    1001\n",
       "Name: count, dtype: int64"
      ]
     },
     "execution_count": 131,
     "metadata": {},
     "output_type": "execute_result"
    }
   ],
   "source": [
    "df_copy['sentiment'].value_counts()\n",
    "\n"
   ]
  },
  {
   "cell_type": "code",
   "execution_count": null,
   "id": "f61b37b0",
   "metadata": {},
   "outputs": [],
   "source": [
    "\n",
    "\n"
   ]
  },
  {
   "cell_type": "code",
   "execution_count": 128,
   "id": "fa5221f4",
   "metadata": {},
   "outputs": [],
   "source": [
    "\n"
   ]
  }
 ],
 "metadata": {
  "kernelspec": {
   "display_name": "Python 3 (ipykernel)",
   "language": "python",
   "name": "python3"
  },
  "language_info": {
   "codemirror_mode": {
    "name": "ipython",
    "version": 3
   },
   "file_extension": ".py",
   "mimetype": "text/x-python",
   "name": "python",
   "nbconvert_exporter": "python",
   "pygments_lexer": "ipython3",
   "version": "3.10.11"
  }
 },
 "nbformat": 4,
 "nbformat_minor": 5
}
